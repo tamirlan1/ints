{
 "cells": [
  {
   "cell_type": "code",
   "execution_count": 81,
   "metadata": {},
   "outputs": [],
   "source": [
    "import pandas as pd\n",
    "import numpy as np\n",
    "import os\n",
    "import matplotlib.pyplot as plt\n",
    "\n",
    "from sklearn import preprocessing\n",
    "from sklearn.model_selection import train_test_split\n",
    "from sklearn.metrics import mean_absolute_error\n",
    "from sklearn.model_selection import cross_val_score\n",
    "from sklearn.model_selection import RandomizedSearchCV\n",
    "from sklearn.linear_model import LinearRegression\n",
    "from sklearn.ensemble import RandomForestRegressor\n",
    "from xgboost.sklearn import XGBRegressor\n",
    "import operator\n",
    "import geopy.distance\n",
    "from geopy.distance import great_circle\n",
    "from geopy.distance import vincenty\n",
    "import reverse_geocoder as rg\n",
    "from datetime import datetime\n",
    "import xgboost as xgb\n",
    "\n",
    "pd.set_option('display.float_format', lambda x: '%.6f' % x)\n",
    "pd.options.display.max_columns = 200\n",
    "%matplotlib inline"
   ]
  },
  {
   "cell_type": "markdown",
   "metadata": {},
   "source": [
    "# Load Training Data"
   ]
  },
  {
   "cell_type": "code",
   "execution_count": 2,
   "metadata": {},
   "outputs": [
    {
     "data": {
      "text/plain": [
       "(12905715, 7)"
      ]
     },
     "execution_count": 2,
     "metadata": {},
     "output_type": "execute_result"
    }
   ],
   "source": [
    "train_orig = pd.read_csv('input/train.csv.bz2')\n",
    "train_orig.shape"
   ]
  },
  {
   "cell_type": "code",
   "execution_count": 45,
   "metadata": {},
   "outputs": [
    {
     "data": {
      "text/plain": [
       "(1434344, 6)"
      ]
     },
     "execution_count": 45,
     "metadata": {},
     "output_type": "execute_result"
    }
   ],
   "source": [
    "test_orig = pd.read_csv('input/test.csv.bz2')\n",
    "test_orig.shape"
   ]
  },
  {
   "cell_type": "code",
   "execution_count": 32,
   "metadata": {},
   "outputs": [
    {
     "data": {
      "text/html": [
       "<div>\n",
       "<style>\n",
       "    .dataframe thead tr:only-child th {\n",
       "        text-align: right;\n",
       "    }\n",
       "\n",
       "    .dataframe thead th {\n",
       "        text-align: left;\n",
       "    }\n",
       "\n",
       "    .dataframe tbody tr th {\n",
       "        vertical-align: top;\n",
       "    }\n",
       "</style>\n",
       "<table border=\"1\" class=\"dataframe\">\n",
       "  <thead>\n",
       "    <tr style=\"text-align: right;\">\n",
       "      <th></th>\n",
       "      <th>row_id</th>\n",
       "      <th>start_lng</th>\n",
       "      <th>start_lat</th>\n",
       "      <th>end_lng</th>\n",
       "      <th>end_lat</th>\n",
       "      <th>start_timestamp</th>\n",
       "      <th>duration</th>\n",
       "    </tr>\n",
       "  </thead>\n",
       "  <tbody>\n",
       "    <tr>\n",
       "      <th>0</th>\n",
       "      <td>0</td>\n",
       "      <td>-74.009087</td>\n",
       "      <td>40.713818</td>\n",
       "      <td>-74.004326</td>\n",
       "      <td>40.719986</td>\n",
       "      <td>1420950819</td>\n",
       "      <td>112</td>\n",
       "    </tr>\n",
       "    <tr>\n",
       "      <th>1</th>\n",
       "      <td>1</td>\n",
       "      <td>-73.971176</td>\n",
       "      <td>40.762428</td>\n",
       "      <td>-74.004181</td>\n",
       "      <td>40.742653</td>\n",
       "      <td>1420950819</td>\n",
       "      <td>1159</td>\n",
       "    </tr>\n",
       "    <tr>\n",
       "      <th>2</th>\n",
       "      <td>2</td>\n",
       "      <td>-73.994957</td>\n",
       "      <td>40.745079</td>\n",
       "      <td>-73.999939</td>\n",
       "      <td>40.734650</td>\n",
       "      <td>1421377541</td>\n",
       "      <td>281</td>\n",
       "    </tr>\n",
       "    <tr>\n",
       "      <th>3</th>\n",
       "      <td>3</td>\n",
       "      <td>-73.991127</td>\n",
       "      <td>40.750080</td>\n",
       "      <td>-73.988609</td>\n",
       "      <td>40.734890</td>\n",
       "      <td>1421377542</td>\n",
       "      <td>636</td>\n",
       "    </tr>\n",
       "    <tr>\n",
       "      <th>4</th>\n",
       "      <td>4</td>\n",
       "      <td>-73.945511</td>\n",
       "      <td>40.773724</td>\n",
       "      <td>-73.987434</td>\n",
       "      <td>40.755707</td>\n",
       "      <td>1422173586</td>\n",
       "      <td>705</td>\n",
       "    </tr>\n",
       "  </tbody>\n",
       "</table>\n",
       "</div>"
      ],
      "text/plain": [
       "   row_id  start_lng  start_lat    end_lng   end_lat  start_timestamp  \\\n",
       "0       0 -74.009087  40.713818 -74.004326 40.719986       1420950819   \n",
       "1       1 -73.971176  40.762428 -74.004181 40.742653       1420950819   \n",
       "2       2 -73.994957  40.745079 -73.999939 40.734650       1421377541   \n",
       "3       3 -73.991127  40.750080 -73.988609 40.734890       1421377542   \n",
       "4       4 -73.945511  40.773724 -73.987434 40.755707       1422173586   \n",
       "\n",
       "   duration  \n",
       "0       112  \n",
       "1      1159  \n",
       "2       281  \n",
       "3       636  \n",
       "4       705  "
      ]
     },
     "execution_count": 32,
     "metadata": {},
     "output_type": "execute_result"
    }
   ],
   "source": [
    "train_orig.head()"
   ]
  },
  {
   "cell_type": "code",
   "execution_count": 46,
   "metadata": {},
   "outputs": [
    {
     "data": {
      "text/html": [
       "<div>\n",
       "<style>\n",
       "    .dataframe thead tr:only-child th {\n",
       "        text-align: right;\n",
       "    }\n",
       "\n",
       "    .dataframe thead th {\n",
       "        text-align: left;\n",
       "    }\n",
       "\n",
       "    .dataframe tbody tr th {\n",
       "        vertical-align: top;\n",
       "    }\n",
       "</style>\n",
       "<table border=\"1\" class=\"dataframe\">\n",
       "  <thead>\n",
       "    <tr style=\"text-align: right;\">\n",
       "      <th></th>\n",
       "      <th>row_id</th>\n",
       "      <th>start_lng</th>\n",
       "      <th>start_lat</th>\n",
       "      <th>end_lng</th>\n",
       "      <th>end_lat</th>\n",
       "      <th>start_timestamp</th>\n",
       "    </tr>\n",
       "  </thead>\n",
       "  <tbody>\n",
       "    <tr>\n",
       "      <th>0</th>\n",
       "      <td>0</td>\n",
       "      <td>-73.993111</td>\n",
       "      <td>40.724289</td>\n",
       "      <td>-74.000977</td>\n",
       "      <td>40.735222</td>\n",
       "      <td>1422173589</td>\n",
       "    </tr>\n",
       "    <tr>\n",
       "      <th>1</th>\n",
       "      <td>1</td>\n",
       "      <td>-73.971924</td>\n",
       "      <td>40.762749</td>\n",
       "      <td>-73.965698</td>\n",
       "      <td>40.771427</td>\n",
       "      <td>1420567340</td>\n",
       "    </tr>\n",
       "    <tr>\n",
       "      <th>2</th>\n",
       "      <td>2</td>\n",
       "      <td>-73.953247</td>\n",
       "      <td>40.765816</td>\n",
       "      <td>-73.952843</td>\n",
       "      <td>40.772453</td>\n",
       "      <td>1420567343</td>\n",
       "    </tr>\n",
       "    <tr>\n",
       "      <th>3</th>\n",
       "      <td>3</td>\n",
       "      <td>-73.986618</td>\n",
       "      <td>40.739353</td>\n",
       "      <td>-73.949158</td>\n",
       "      <td>40.805161</td>\n",
       "      <td>1420103336</td>\n",
       "    </tr>\n",
       "    <tr>\n",
       "      <th>4</th>\n",
       "      <td>4</td>\n",
       "      <td>-73.968864</td>\n",
       "      <td>40.757317</td>\n",
       "      <td>-73.982521</td>\n",
       "      <td>40.771305</td>\n",
       "      <td>1420690180</td>\n",
       "    </tr>\n",
       "  </tbody>\n",
       "</table>\n",
       "</div>"
      ],
      "text/plain": [
       "   row_id  start_lng  start_lat    end_lng   end_lat  start_timestamp\n",
       "0       0 -73.993111  40.724289 -74.000977 40.735222       1422173589\n",
       "1       1 -73.971924  40.762749 -73.965698 40.771427       1420567340\n",
       "2       2 -73.953247  40.765816 -73.952843 40.772453       1420567343\n",
       "3       3 -73.986618  40.739353 -73.949158 40.805161       1420103336\n",
       "4       4 -73.968864  40.757317 -73.982521 40.771305       1420690180"
      ]
     },
     "execution_count": 46,
     "metadata": {},
     "output_type": "execute_result"
    }
   ],
   "source": [
    "test_orig.head()"
   ]
  },
  {
   "cell_type": "markdown",
   "metadata": {},
   "source": [
    "# Data Exploration and Cleaning"
   ]
  },
  {
   "cell_type": "markdown",
   "metadata": {},
   "source": [
    "### Data Cleaning"
   ]
  },
  {
   "cell_type": "code",
   "execution_count": 13,
   "metadata": {},
   "outputs": [
    {
     "data": {
      "text/plain": [
       "(12905715, 7)"
      ]
     },
     "execution_count": 13,
     "metadata": {},
     "output_type": "execute_result"
    }
   ],
   "source": [
    "train_orig.shape"
   ]
  },
  {
   "cell_type": "code",
   "execution_count": 14,
   "metadata": {},
   "outputs": [
    {
     "data": {
      "text/plain": [
       "(12905715, 7)"
      ]
     },
     "execution_count": 14,
     "metadata": {},
     "output_type": "execute_result"
    }
   ],
   "source": [
    "# Check if there are missing values\n",
    "train_orig.dropna(inplace=True)\n",
    "train_orig.shape"
   ]
  },
  {
   "cell_type": "code",
   "execution_count": 18,
   "metadata": {},
   "outputs": [
    {
     "data": {
      "text/plain": [
       "(12905715, 7)"
      ]
     },
     "execution_count": 18,
     "metadata": {},
     "output_type": "execute_result"
    }
   ],
   "source": [
    "# Check if there are duplicated values\n",
    "train_orig.drop_duplicates(inplace=True)\n",
    "train_orig.shape"
   ]
  },
  {
   "cell_type": "markdown",
   "metadata": {},
   "source": [
    "### Data Exploration"
   ]
  },
  {
   "cell_type": "code",
   "execution_count": 28,
   "metadata": {},
   "outputs": [
    {
     "data": {
      "text/plain": [
       "Text(0,0.5,'Count')"
      ]
     },
     "execution_count": 28,
     "metadata": {},
     "output_type": "execute_result"
    },
    {
     "data": {
      "image/png": "[encoded data removed]",
      "text/plain": [
       "<matplotlib.figure.Figure at 0x1167fc748>"
      ]
     },
     "metadata": {},
     "output_type": "display_data"
    }
   ],
   "source": [
    "plt.hist(train_orig['duration']/60, bins = 30, range=[0, 60])\n",
    "plt.title('Distribution of trip duration within first hour')\n",
    "plt.xlabel('Trip duration (min)')\n",
    "plt.ylabel('Count')"
   ]
  },
  {
   "cell_type": "code",
   "execution_count": 34,
   "metadata": {
    "collapsed": true
   },
   "outputs": [],
   "source": [
    "desc = train_orig.describe()"
   ]
  },
  {
   "cell_type": "code",
   "execution_count": 35,
   "metadata": {},
   "outputs": [
    {
     "data": {
      "text/html": [
       "<div>\n",
       "<style>\n",
       "    .dataframe thead tr:only-child th {\n",
       "        text-align: right;\n",
       "    }\n",
       "\n",
       "    .dataframe thead th {\n",
       "        text-align: left;\n",
       "    }\n",
       "\n",
       "    .dataframe tbody tr th {\n",
       "        vertical-align: top;\n",
       "    }\n",
       "</style>\n",
       "<table border=\"1\" class=\"dataframe\">\n",
       "  <thead>\n",
       "    <tr style=\"text-align: right;\">\n",
       "      <th></th>\n",
       "      <th>row_id</th>\n",
       "      <th>start_lng</th>\n",
       "      <th>start_lat</th>\n",
       "      <th>end_lng</th>\n",
       "      <th>end_lat</th>\n",
       "      <th>start_timestamp</th>\n",
       "      <th>duration</th>\n",
       "    </tr>\n",
       "  </thead>\n",
       "  <tbody>\n",
       "    <tr>\n",
       "      <th>count</th>\n",
       "      <td>12905715.000000</td>\n",
       "      <td>12905715.000000</td>\n",
       "      <td>12905715.000000</td>\n",
       "      <td>12905715.000000</td>\n",
       "      <td>12905715.000000</td>\n",
       "      <td>12905715.000000</td>\n",
       "      <td>12905715.000000</td>\n",
       "    </tr>\n",
       "    <tr>\n",
       "      <th>mean</th>\n",
       "      <td>6452857.000000</td>\n",
       "      <td>-73.973822</td>\n",
       "      <td>40.750647</td>\n",
       "      <td>-73.973579</td>\n",
       "      <td>40.751406</td>\n",
       "      <td>1435380415.681176</td>\n",
       "      <td>842.141953</td>\n",
       "    </tr>\n",
       "    <tr>\n",
       "      <th>std</th>\n",
       "      <td>3725559.159012</td>\n",
       "      <td>0.038003</td>\n",
       "      <td>0.027897</td>\n",
       "      <td>0.035899</td>\n",
       "      <td>0.031921</td>\n",
       "      <td>9079599.939003</td>\n",
       "      <td>712.748918</td>\n",
       "    </tr>\n",
       "    <tr>\n",
       "      <th>min</th>\n",
       "      <td>0.000000</td>\n",
       "      <td>-74.514618</td>\n",
       "      <td>40.368916</td>\n",
       "      <td>-74.517853</td>\n",
       "      <td>40.368874</td>\n",
       "      <td>1420099203.000000</td>\n",
       "      <td>1.000000</td>\n",
       "    </tr>\n",
       "    <tr>\n",
       "      <th>25%</th>\n",
       "      <td>3226428.500000</td>\n",
       "      <td>-73.992058</td>\n",
       "      <td>40.736973</td>\n",
       "      <td>-73.991425</td>\n",
       "      <td>40.735523</td>\n",
       "      <td>1427509195.000000</td>\n",
       "      <td>400.000000</td>\n",
       "    </tr>\n",
       "    <tr>\n",
       "      <th>50%</th>\n",
       "      <td>6452857.000000</td>\n",
       "      <td>-73.981956</td>\n",
       "      <td>40.753590</td>\n",
       "      <td>-73.980087</td>\n",
       "      <td>40.754078</td>\n",
       "      <td>1434868495.000000</td>\n",
       "      <td>665.000000</td>\n",
       "    </tr>\n",
       "    <tr>\n",
       "      <th>75%</th>\n",
       "      <td>9679285.500000</td>\n",
       "      <td>-73.967735</td>\n",
       "      <td>40.767925</td>\n",
       "      <td>-73.963509</td>\n",
       "      <td>40.769054</td>\n",
       "      <td>1443342388.500000</td>\n",
       "      <td>1076.000000</td>\n",
       "    </tr>\n",
       "    <tr>\n",
       "      <th>max</th>\n",
       "      <td>12905714.000000</td>\n",
       "      <td>-73.414452</td>\n",
       "      <td>41.031418</td>\n",
       "      <td>-73.414352</td>\n",
       "      <td>41.031509</td>\n",
       "      <td>1451635024.000000</td>\n",
       "      <td>43178.000000</td>\n",
       "    </tr>\n",
       "  </tbody>\n",
       "</table>\n",
       "</div>"
      ],
      "text/plain": [
       "               row_id       start_lng       start_lat         end_lng  \\\n",
       "count 12905715.000000 12905715.000000 12905715.000000 12905715.000000   \n",
       "mean   6452857.000000      -73.973822       40.750647      -73.973579   \n",
       "std    3725559.159012        0.038003        0.027897        0.035899   \n",
       "min          0.000000      -74.514618       40.368916      -74.517853   \n",
       "25%    3226428.500000      -73.992058       40.736973      -73.991425   \n",
       "50%    6452857.000000      -73.981956       40.753590      -73.980087   \n",
       "75%    9679285.500000      -73.967735       40.767925      -73.963509   \n",
       "max   12905714.000000      -73.414452       41.031418      -73.414352   \n",
       "\n",
       "              end_lat   start_timestamp        duration  \n",
       "count 12905715.000000   12905715.000000 12905715.000000  \n",
       "mean        40.751406 1435380415.681176      842.141953  \n",
       "std          0.031921    9079599.939003      712.748918  \n",
       "min         40.368874 1420099203.000000        1.000000  \n",
       "25%         40.735523 1427509195.000000      400.000000  \n",
       "50%         40.754078 1434868495.000000      665.000000  \n",
       "75%         40.769054 1443342388.500000     1076.000000  \n",
       "max         41.031509 1451635024.000000    43178.000000  "
      ]
     },
     "execution_count": 35,
     "metadata": {},
     "output_type": "execute_result"
    }
   ],
   "source": [
    "desc"
   ]
  },
  {
   "cell_type": "markdown",
   "metadata": {},
   "source": [
    "# Feature Engineering"
   ]
  },
  {
   "cell_type": "markdown",
   "metadata": {},
   "source": [
    "### Extract features from time"
   ]
  },
  {
   "cell_type": "code",
   "execution_count": 50,
   "metadata": {},
   "outputs": [
    {
     "data": {
      "text/plain": [
       "2015   0.999593\n",
       "2016   0.000407\n",
       "Name: start_year, dtype: float64"
      ]
     },
     "execution_count": 50,
     "metadata": {},
     "output_type": "execute_result"
    }
   ],
   "source": [
    "test_orig['start_year'].value_counts(normalize=True)"
   ]
  },
  {
   "cell_type": "code",
   "execution_count": 36,
   "metadata": {
    "collapsed": true
   },
   "outputs": [],
   "source": [
    "train_orig['start_datetime'] = pd.to_datetime(train_orig['start_timestamp'], unit='s')\n",
    "test_orig['start_datetime'] = pd.to_datetime(test_orig['start_timestamp'], unit='s')"
   ]
  },
  {
   "cell_type": "code",
   "execution_count": 37,
   "metadata": {},
   "outputs": [],
   "source": [
    "# Convert to EST as all locations are in New York area\n",
    "train_orig['start_datetime'] = train_orig['start_datetime'].dt.tz_localize('UTC').dt.tz_convert('US/Eastern')\n",
    "test_orig['start_datetime'] = test_orig['start_datetime'].dt.tz_localize('UTC').dt.tz_convert('US/Eastern')"
   ]
  },
  {
   "cell_type": "code",
   "execution_count": 40,
   "metadata": {
    "collapsed": true
   },
   "outputs": [],
   "source": [
    "# Get new features\n",
    "train_orig['start_year'] = train_orig['start_datetime'].dt.year\n",
    "train_orig['start_month'] = train_orig['start_datetime'].dt.month\n",
    "train_orig['start_day'] = train_orig['start_datetime'].dt.day\n",
    "train_orig['start_weekday'] = train_orig['start_datetime'].dt.weekday\n",
    "train_orig['start_hour'] = train_orig['start_datetime'].dt.hour\n",
    "test_orig['start_year'] = test_orig['start_datetime'].dt.year\n",
    "test_orig['start_month'] = test_orig['start_datetime'].dt.month\n",
    "test_orig['start_day'] = test_orig['start_datetime'].dt.day\n",
    "test_orig['start_weekday'] = test_orig['start_datetime'].dt.weekday\n",
    "test_orig['start_hour'] = test_orig['start_datetime'].dt.hour"
   ]
  },
  {
   "cell_type": "code",
   "execution_count": 41,
   "metadata": {},
   "outputs": [
    {
     "data": {
      "text/plain": [
       "2015   0.999579\n",
       "2016   0.000421\n",
       "Name: start_year, dtype: float64"
      ]
     },
     "execution_count": 41,
     "metadata": {},
     "output_type": "execute_result"
    }
   ],
   "source": [
    "train_orig['start_year'].value_counts(normalize=True)"
   ]
  },
  {
   "cell_type": "code",
   "execution_count": 51,
   "metadata": {},
   "outputs": [
    {
     "data": {
      "text/plain": [
       "2015   0.999593\n",
       "2016   0.000407\n",
       "Name: start_year, dtype: float64"
      ]
     },
     "execution_count": 51,
     "metadata": {},
     "output_type": "execute_result"
    }
   ],
   "source": [
    "test_orig['start_year'].value_counts(normalize=True)"
   ]
  },
  {
   "cell_type": "code",
   "execution_count": 52,
   "metadata": {
    "collapsed": true
   },
   "outputs": [],
   "source": [
    "# Delete start year column, since almost all the data is from one category\n",
    "del train_orig['start_year']\n",
    "del test_orig['start_year']"
   ]
  },
  {
   "cell_type": "code",
   "execution_count": 43,
   "metadata": {},
   "outputs": [
    {
     "data": {
      "text/html": [
       "<div>\n",
       "<style>\n",
       "    .dataframe thead tr:only-child th {\n",
       "        text-align: right;\n",
       "    }\n",
       "\n",
       "    .dataframe thead th {\n",
       "        text-align: left;\n",
       "    }\n",
       "\n",
       "    .dataframe tbody tr th {\n",
       "        vertical-align: top;\n",
       "    }\n",
       "</style>\n",
       "<table border=\"1\" class=\"dataframe\">\n",
       "  <thead>\n",
       "    <tr style=\"text-align: right;\">\n",
       "      <th></th>\n",
       "      <th>row_id</th>\n",
       "      <th>start_lng</th>\n",
       "      <th>start_lat</th>\n",
       "      <th>end_lng</th>\n",
       "      <th>end_lat</th>\n",
       "      <th>start_timestamp</th>\n",
       "      <th>duration</th>\n",
       "      <th>start_datetime</th>\n",
       "      <th>start_weekday</th>\n",
       "      <th>start_hour</th>\n",
       "      <th>start_month</th>\n",
       "      <th>start_day</th>\n",
       "    </tr>\n",
       "  </thead>\n",
       "  <tbody>\n",
       "    <tr>\n",
       "      <th>0</th>\n",
       "      <td>0</td>\n",
       "      <td>-74.009087</td>\n",
       "      <td>40.713818</td>\n",
       "      <td>-74.004326</td>\n",
       "      <td>40.719986</td>\n",
       "      <td>1420950819</td>\n",
       "      <td>112</td>\n",
       "      <td>2015-01-10 23:33:39-05:00</td>\n",
       "      <td>5</td>\n",
       "      <td>23</td>\n",
       "      <td>1</td>\n",
       "      <td>10</td>\n",
       "    </tr>\n",
       "    <tr>\n",
       "      <th>1</th>\n",
       "      <td>1</td>\n",
       "      <td>-73.971176</td>\n",
       "      <td>40.762428</td>\n",
       "      <td>-74.004181</td>\n",
       "      <td>40.742653</td>\n",
       "      <td>1420950819</td>\n",
       "      <td>1159</td>\n",
       "      <td>2015-01-10 23:33:39-05:00</td>\n",
       "      <td>5</td>\n",
       "      <td>23</td>\n",
       "      <td>1</td>\n",
       "      <td>10</td>\n",
       "    </tr>\n",
       "    <tr>\n",
       "      <th>2</th>\n",
       "      <td>2</td>\n",
       "      <td>-73.994957</td>\n",
       "      <td>40.745079</td>\n",
       "      <td>-73.999939</td>\n",
       "      <td>40.734650</td>\n",
       "      <td>1421377541</td>\n",
       "      <td>281</td>\n",
       "      <td>2015-01-15 22:05:41-05:00</td>\n",
       "      <td>3</td>\n",
       "      <td>22</td>\n",
       "      <td>1</td>\n",
       "      <td>15</td>\n",
       "    </tr>\n",
       "    <tr>\n",
       "      <th>3</th>\n",
       "      <td>3</td>\n",
       "      <td>-73.991127</td>\n",
       "      <td>40.750080</td>\n",
       "      <td>-73.988609</td>\n",
       "      <td>40.734890</td>\n",
       "      <td>1421377542</td>\n",
       "      <td>636</td>\n",
       "      <td>2015-01-15 22:05:42-05:00</td>\n",
       "      <td>3</td>\n",
       "      <td>22</td>\n",
       "      <td>1</td>\n",
       "      <td>15</td>\n",
       "    </tr>\n",
       "    <tr>\n",
       "      <th>4</th>\n",
       "      <td>4</td>\n",
       "      <td>-73.945511</td>\n",
       "      <td>40.773724</td>\n",
       "      <td>-73.987434</td>\n",
       "      <td>40.755707</td>\n",
       "      <td>1422173586</td>\n",
       "      <td>705</td>\n",
       "      <td>2015-01-25 03:13:06-05:00</td>\n",
       "      <td>6</td>\n",
       "      <td>3</td>\n",
       "      <td>1</td>\n",
       "      <td>25</td>\n",
       "    </tr>\n",
       "  </tbody>\n",
       "</table>\n",
       "</div>"
      ],
      "text/plain": [
       "   row_id  start_lng  start_lat    end_lng   end_lat  start_timestamp  \\\n",
       "0       0 -74.009087  40.713818 -74.004326 40.719986       1420950819   \n",
       "1       1 -73.971176  40.762428 -74.004181 40.742653       1420950819   \n",
       "2       2 -73.994957  40.745079 -73.999939 40.734650       1421377541   \n",
       "3       3 -73.991127  40.750080 -73.988609 40.734890       1421377542   \n",
       "4       4 -73.945511  40.773724 -73.987434 40.755707       1422173586   \n",
       "\n",
       "   duration            start_datetime  start_weekday  start_hour  start_month  \\\n",
       "0       112 2015-01-10 23:33:39-05:00              5          23            1   \n",
       "1      1159 2015-01-10 23:33:39-05:00              5          23            1   \n",
       "2       281 2015-01-15 22:05:41-05:00              3          22            1   \n",
       "3       636 2015-01-15 22:05:42-05:00              3          22            1   \n",
       "4       705 2015-01-25 03:13:06-05:00              6           3            1   \n",
       "\n",
       "   start_day  \n",
       "0         10  \n",
       "1         10  \n",
       "2         15  \n",
       "3         15  \n",
       "4         25  "
      ]
     },
     "execution_count": 43,
     "metadata": {},
     "output_type": "execute_result"
    }
   ],
   "source": [
    "train_orig.head()"
   ]
  },
  {
   "cell_type": "code",
   "execution_count": 146,
   "metadata": {
    "collapsed": true
   },
   "outputs": [
    {
     "data": {
      "text/html": [
       "<div>\n",
       "<style>\n",
       "    .dataframe thead tr:only-child th {\n",
       "        text-align: right;\n",
       "    }\n",
       "\n",
       "    .dataframe thead th {\n",
       "        text-align: left;\n",
       "    }\n",
       "\n",
       "    .dataframe tbody tr th {\n",
       "        vertical-align: top;\n",
       "    }\n",
       "</style>\n",
       "<table border=\"1\" class=\"dataframe\">\n",
       "  <thead>\n",
       "    <tr>\n",
       "      <th></th>\n",
       "      <th colspan=\"2\" halign=\"left\">duration</th>\n",
       "    </tr>\n",
       "    <tr>\n",
       "      <th></th>\n",
       "      <th>mean</th>\n",
       "      <th>count</th>\n",
       "    </tr>\n",
       "    <tr>\n",
       "      <th>start_weekday</th>\n",
       "      <th></th>\n",
       "      <th></th>\n",
       "    </tr>\n",
       "  </thead>\n",
       "  <tbody>\n",
       "    <tr>\n",
       "      <th>0</th>\n",
       "      <td>818.272064</td>\n",
       "      <td>1611350</td>\n",
       "    </tr>\n",
       "    <tr>\n",
       "      <th>1</th>\n",
       "      <td>857.068040</td>\n",
       "      <td>1728380</td>\n",
       "    </tr>\n",
       "    <tr>\n",
       "      <th>2</th>\n",
       "      <td>877.355357</td>\n",
       "      <td>1842131</td>\n",
       "    </tr>\n",
       "    <tr>\n",
       "      <th>3</th>\n",
       "      <td>890.178361</td>\n",
       "      <td>1910248</td>\n",
       "    </tr>\n",
       "    <tr>\n",
       "      <th>4</th>\n",
       "      <td>880.768862</td>\n",
       "      <td>1932968</td>\n",
       "    </tr>\n",
       "    <tr>\n",
       "      <th>5</th>\n",
       "      <td>788.442414</td>\n",
       "      <td>2008334</td>\n",
       "    </tr>\n",
       "    <tr>\n",
       "      <th>6</th>\n",
       "      <td>782.972965</td>\n",
       "      <td>1872304</td>\n",
       "    </tr>\n",
       "  </tbody>\n",
       "</table>\n",
       "</div>"
      ],
      "text/plain": [
       "                 duration         \n",
       "                     mean    count\n",
       "start_weekday                     \n",
       "0              818.272064  1611350\n",
       "1              857.068040  1728380\n",
       "2              877.355357  1842131\n",
       "3              890.178361  1910248\n",
       "4              880.768862  1932968\n",
       "5              788.442414  2008334\n",
       "6              782.972965  1872304"
      ]
     },
     "execution_count": 146,
     "metadata": {},
     "output_type": "execute_result"
    }
   ],
   "source": [
    "gr_weekday = train_orig[['start_weekday', 'duration']].groupby('start_weekday').agg(['mean', 'count'])\n",
    "gr_weekday"
   ]
  },
  {
   "cell_type": "code",
   "execution_count": 147,
   "metadata": {
    "collapsed": true
   },
   "outputs": [
    {
     "data": {
      "text/html": [
       "<div>\n",
       "<style>\n",
       "    .dataframe thead tr:only-child th {\n",
       "        text-align: right;\n",
       "    }\n",
       "\n",
       "    .dataframe thead th {\n",
       "        text-align: left;\n",
       "    }\n",
       "\n",
       "    .dataframe tbody tr th {\n",
       "        vertical-align: top;\n",
       "    }\n",
       "</style>\n",
       "<table border=\"1\" class=\"dataframe\">\n",
       "  <thead>\n",
       "    <tr>\n",
       "      <th></th>\n",
       "      <th colspan=\"2\" halign=\"left\">duration</th>\n",
       "    </tr>\n",
       "    <tr>\n",
       "      <th></th>\n",
       "      <th>mean</th>\n",
       "      <th>count</th>\n",
       "    </tr>\n",
       "    <tr>\n",
       "      <th>start_month</th>\n",
       "      <th></th>\n",
       "      <th></th>\n",
       "    </tr>\n",
       "  </thead>\n",
       "  <tbody>\n",
       "    <tr>\n",
       "      <th>1</th>\n",
       "      <td>741.081143</td>\n",
       "      <td>1119566</td>\n",
       "    </tr>\n",
       "    <tr>\n",
       "      <th>2</th>\n",
       "      <td>804.372384</td>\n",
       "      <td>1095329</td>\n",
       "    </tr>\n",
       "    <tr>\n",
       "      <th>3</th>\n",
       "      <td>827.687363</td>\n",
       "      <td>1177297</td>\n",
       "    </tr>\n",
       "    <tr>\n",
       "      <th>4</th>\n",
       "      <td>840.770208</td>\n",
       "      <td>1153930</td>\n",
       "    </tr>\n",
       "    <tr>\n",
       "      <th>5</th>\n",
       "      <td>874.802166</td>\n",
       "      <td>1166260</td>\n",
       "    </tr>\n",
       "    <tr>\n",
       "      <th>6</th>\n",
       "      <td>874.842967</td>\n",
       "      <td>1088885</td>\n",
       "    </tr>\n",
       "    <tr>\n",
       "      <th>7</th>\n",
       "      <td>835.227322</td>\n",
       "      <td>1023172</td>\n",
       "    </tr>\n",
       "    <tr>\n",
       "      <th>8</th>\n",
       "      <td>825.808569</td>\n",
       "      <td>988257</td>\n",
       "    </tr>\n",
       "    <tr>\n",
       "      <th>9</th>\n",
       "      <td>862.717629</td>\n",
       "      <td>991879</td>\n",
       "    </tr>\n",
       "    <tr>\n",
       "      <th>10</th>\n",
       "      <td>885.311212</td>\n",
       "      <td>1089225</td>\n",
       "    </tr>\n",
       "    <tr>\n",
       "      <th>11</th>\n",
       "      <td>867.957045</td>\n",
       "      <td>1000678</td>\n",
       "    </tr>\n",
       "    <tr>\n",
       "      <th>12</th>\n",
       "      <td>871.186451</td>\n",
       "      <td>1011237</td>\n",
       "    </tr>\n",
       "  </tbody>\n",
       "</table>\n",
       "</div>"
      ],
      "text/plain": [
       "               duration         \n",
       "                   mean    count\n",
       "start_month                     \n",
       "1            741.081143  1119566\n",
       "2            804.372384  1095329\n",
       "3            827.687363  1177297\n",
       "4            840.770208  1153930\n",
       "5            874.802166  1166260\n",
       "6            874.842967  1088885\n",
       "7            835.227322  1023172\n",
       "8            825.808569   988257\n",
       "9            862.717629   991879\n",
       "10           885.311212  1089225\n",
       "11           867.957045  1000678\n",
       "12           871.186451  1011237"
      ]
     },
     "execution_count": 147,
     "metadata": {},
     "output_type": "execute_result"
    }
   ],
   "source": [
    "gr_month = train_orig[['start_month', 'duration']].groupby('start_month').agg(['mean', 'count'])\n",
    "gr_month"
   ]
  },
  {
   "cell_type": "code",
   "execution_count": 148,
   "metadata": {
    "collapsed": true
   },
   "outputs": [
    {
     "data": {
      "text/html": [
       "<div>\n",
       "<style>\n",
       "    .dataframe thead tr:only-child th {\n",
       "        text-align: right;\n",
       "    }\n",
       "\n",
       "    .dataframe thead th {\n",
       "        text-align: left;\n",
       "    }\n",
       "\n",
       "    .dataframe tbody tr th {\n",
       "        vertical-align: top;\n",
       "    }\n",
       "</style>\n",
       "<table border=\"1\" class=\"dataframe\">\n",
       "  <thead>\n",
       "    <tr>\n",
       "      <th></th>\n",
       "      <th colspan=\"2\" halign=\"left\">duration</th>\n",
       "    </tr>\n",
       "    <tr>\n",
       "      <th></th>\n",
       "      <th>mean</th>\n",
       "      <th>count</th>\n",
       "    </tr>\n",
       "    <tr>\n",
       "      <th>start_year</th>\n",
       "      <th></th>\n",
       "      <th></th>\n",
       "    </tr>\n",
       "  </thead>\n",
       "  <tbody>\n",
       "    <tr>\n",
       "      <th>2015</th>\n",
       "      <td>842.203019</td>\n",
       "      <td>12900286</td>\n",
       "    </tr>\n",
       "    <tr>\n",
       "      <th>2016</th>\n",
       "      <td>697.036839</td>\n",
       "      <td>5429</td>\n",
       "    </tr>\n",
       "  </tbody>\n",
       "</table>\n",
       "</div>"
      ],
      "text/plain": [
       "              duration          \n",
       "                  mean     count\n",
       "start_year                      \n",
       "2015        842.203019  12900286\n",
       "2016        697.036839      5429"
      ]
     },
     "execution_count": 148,
     "metadata": {},
     "output_type": "execute_result"
    }
   ],
   "source": [
    "# gr_year = train_orig[['start_year', 'duration']].groupby('start_year').agg(['mean', 'count'])\n",
    "# gr_year"
   ]
  },
  {
   "cell_type": "code",
   "execution_count": 149,
   "metadata": {
    "collapsed": true
   },
   "outputs": [
    {
     "data": {
      "text/html": [
       "<div>\n",
       "<style>\n",
       "    .dataframe thead tr:only-child th {\n",
       "        text-align: right;\n",
       "    }\n",
       "\n",
       "    .dataframe thead th {\n",
       "        text-align: left;\n",
       "    }\n",
       "\n",
       "    .dataframe tbody tr th {\n",
       "        vertical-align: top;\n",
       "    }\n",
       "</style>\n",
       "<table border=\"1\" class=\"dataframe\">\n",
       "  <thead>\n",
       "    <tr>\n",
       "      <th></th>\n",
       "      <th colspan=\"2\" halign=\"left\">duration</th>\n",
       "    </tr>\n",
       "    <tr>\n",
       "      <th></th>\n",
       "      <th>mean</th>\n",
       "      <th>count</th>\n",
       "    </tr>\n",
       "    <tr>\n",
       "      <th>start_day</th>\n",
       "      <th></th>\n",
       "      <th></th>\n",
       "    </tr>\n",
       "  </thead>\n",
       "  <tbody>\n",
       "    <tr>\n",
       "      <th>1</th>\n",
       "      <td>851.199686</td>\n",
       "      <td>429730</td>\n",
       "    </tr>\n",
       "    <tr>\n",
       "      <th>2</th>\n",
       "      <td>849.343243</td>\n",
       "      <td>408233</td>\n",
       "    </tr>\n",
       "    <tr>\n",
       "      <th>3</th>\n",
       "      <td>834.602059</td>\n",
       "      <td>420487</td>\n",
       "    </tr>\n",
       "    <tr>\n",
       "      <th>4</th>\n",
       "      <td>834.669485</td>\n",
       "      <td>410577</td>\n",
       "    </tr>\n",
       "    <tr>\n",
       "      <th>5</th>\n",
       "      <td>819.431985</td>\n",
       "      <td>409720</td>\n",
       "    </tr>\n",
       "    <tr>\n",
       "      <th>6</th>\n",
       "      <td>837.946487</td>\n",
       "      <td>419938</td>\n",
       "    </tr>\n",
       "    <tr>\n",
       "      <th>7</th>\n",
       "      <td>820.833000</td>\n",
       "      <td>433043</td>\n",
       "    </tr>\n",
       "    <tr>\n",
       "      <th>8</th>\n",
       "      <td>835.246091</td>\n",
       "      <td>435575</td>\n",
       "    </tr>\n",
       "    <tr>\n",
       "      <th>9</th>\n",
       "      <td>855.286019</td>\n",
       "      <td>422329</td>\n",
       "    </tr>\n",
       "    <tr>\n",
       "      <th>10</th>\n",
       "      <td>860.083041</td>\n",
       "      <td>436027</td>\n",
       "    </tr>\n",
       "    <tr>\n",
       "      <th>11</th>\n",
       "      <td>859.950482</td>\n",
       "      <td>441352</td>\n",
       "    </tr>\n",
       "    <tr>\n",
       "      <th>12</th>\n",
       "      <td>851.823589</td>\n",
       "      <td>436940</td>\n",
       "    </tr>\n",
       "    <tr>\n",
       "      <th>13</th>\n",
       "      <td>863.154514</td>\n",
       "      <td>436058</td>\n",
       "    </tr>\n",
       "    <tr>\n",
       "      <th>14</th>\n",
       "      <td>839.943885</td>\n",
       "      <td>438618</td>\n",
       "    </tr>\n",
       "    <tr>\n",
       "      <th>15</th>\n",
       "      <td>845.813307</td>\n",
       "      <td>438120</td>\n",
       "    </tr>\n",
       "    <tr>\n",
       "      <th>16</th>\n",
       "      <td>854.009444</td>\n",
       "      <td>432347</td>\n",
       "    </tr>\n",
       "    <tr>\n",
       "      <th>17</th>\n",
       "      <td>860.897716</td>\n",
       "      <td>437193</td>\n",
       "    </tr>\n",
       "    <tr>\n",
       "      <th>18</th>\n",
       "      <td>843.417440</td>\n",
       "      <td>452729</td>\n",
       "    </tr>\n",
       "    <tr>\n",
       "      <th>19</th>\n",
       "      <td>837.949071</td>\n",
       "      <td>446625</td>\n",
       "    </tr>\n",
       "    <tr>\n",
       "      <th>20</th>\n",
       "      <td>838.953219</td>\n",
       "      <td>438836</td>\n",
       "    </tr>\n",
       "    <tr>\n",
       "      <th>21</th>\n",
       "      <td>836.795535</td>\n",
       "      <td>429672</td>\n",
       "    </tr>\n",
       "    <tr>\n",
       "      <th>22</th>\n",
       "      <td>834.289427</td>\n",
       "      <td>427379</td>\n",
       "    </tr>\n",
       "    <tr>\n",
       "      <th>23</th>\n",
       "      <td>835.287034</td>\n",
       "      <td>415805</td>\n",
       "    </tr>\n",
       "    <tr>\n",
       "      <th>24</th>\n",
       "      <td>820.325843</td>\n",
       "      <td>416382</td>\n",
       "    </tr>\n",
       "    <tr>\n",
       "      <th>25</th>\n",
       "      <td>804.324595</td>\n",
       "      <td>405970</td>\n",
       "    </tr>\n",
       "    <tr>\n",
       "      <th>26</th>\n",
       "      <td>830.653411</td>\n",
       "      <td>386426</td>\n",
       "    </tr>\n",
       "    <tr>\n",
       "      <th>27</th>\n",
       "      <td>835.121715</td>\n",
       "      <td>380979</td>\n",
       "    </tr>\n",
       "    <tr>\n",
       "      <th>28</th>\n",
       "      <td>841.456628</td>\n",
       "      <td>409935</td>\n",
       "    </tr>\n",
       "    <tr>\n",
       "      <th>29</th>\n",
       "      <td>857.903150</td>\n",
       "      <td>377564</td>\n",
       "    </tr>\n",
       "    <tr>\n",
       "      <th>30</th>\n",
       "      <td>884.597907</td>\n",
       "      <td>380096</td>\n",
       "    </tr>\n",
       "    <tr>\n",
       "      <th>31</th>\n",
       "      <td>822.397984</td>\n",
       "      <td>251030</td>\n",
       "    </tr>\n",
       "  </tbody>\n",
       "</table>\n",
       "</div>"
      ],
      "text/plain": [
       "             duration        \n",
       "                 mean   count\n",
       "start_day                    \n",
       "1          851.199686  429730\n",
       "2          849.343243  408233\n",
       "3          834.602059  420487\n",
       "4          834.669485  410577\n",
       "5          819.431985  409720\n",
       "6          837.946487  419938\n",
       "7          820.833000  433043\n",
       "8          835.246091  435575\n",
       "9          855.286019  422329\n",
       "10         860.083041  436027\n",
       "11         859.950482  441352\n",
       "12         851.823589  436940\n",
       "13         863.154514  436058\n",
       "14         839.943885  438618\n",
       "15         845.813307  438120\n",
       "16         854.009444  432347\n",
       "17         860.897716  437193\n",
       "18         843.417440  452729\n",
       "19         837.949071  446625\n",
       "20         838.953219  438836\n",
       "21         836.795535  429672\n",
       "22         834.289427  427379\n",
       "23         835.287034  415805\n",
       "24         820.325843  416382\n",
       "25         804.324595  405970\n",
       "26         830.653411  386426\n",
       "27         835.121715  380979\n",
       "28         841.456628  409935\n",
       "29         857.903150  377564\n",
       "30         884.597907  380096\n",
       "31         822.397984  251030"
      ]
     },
     "execution_count": 149,
     "metadata": {},
     "output_type": "execute_result"
    }
   ],
   "source": [
    "gr_day = train_orig[['start_day', 'duration']].groupby('start_day').agg(['mean', 'count'])\n",
    "gr_day"
   ]
  },
  {
   "cell_type": "code",
   "execution_count": 150,
   "metadata": {
    "collapsed": true
   },
   "outputs": [
    {
     "data": {
      "text/html": [
       "<div>\n",
       "<style>\n",
       "    .dataframe thead tr:only-child th {\n",
       "        text-align: right;\n",
       "    }\n",
       "\n",
       "    .dataframe thead th {\n",
       "        text-align: left;\n",
       "    }\n",
       "\n",
       "    .dataframe tbody tr th {\n",
       "        vertical-align: top;\n",
       "    }\n",
       "</style>\n",
       "<table border=\"1\" class=\"dataframe\">\n",
       "  <thead>\n",
       "    <tr>\n",
       "      <th></th>\n",
       "      <th colspan=\"2\" halign=\"left\">duration</th>\n",
       "    </tr>\n",
       "    <tr>\n",
       "      <th></th>\n",
       "      <th>mean</th>\n",
       "      <th>count</th>\n",
       "    </tr>\n",
       "    <tr>\n",
       "      <th>start_hour</th>\n",
       "      <th></th>\n",
       "      <th></th>\n",
       "    </tr>\n",
       "  </thead>\n",
       "  <tbody>\n",
       "    <tr>\n",
       "      <th>0</th>\n",
       "      <td>777.696032</td>\n",
       "      <td>749756</td>\n",
       "    </tr>\n",
       "    <tr>\n",
       "      <th>1</th>\n",
       "      <td>797.353497</td>\n",
       "      <td>722441</td>\n",
       "    </tr>\n",
       "    <tr>\n",
       "      <th>2</th>\n",
       "      <td>801.640528</td>\n",
       "      <td>629353</td>\n",
       "    </tr>\n",
       "    <tr>\n",
       "      <th>3</th>\n",
       "      <td>778.964497</td>\n",
       "      <td>493109</td>\n",
       "    </tr>\n",
       "    <tr>\n",
       "      <th>4</th>\n",
       "      <td>724.697923</td>\n",
       "      <td>360269</td>\n",
       "    </tr>\n",
       "    <tr>\n",
       "      <th>5</th>\n",
       "      <td>701.713323</td>\n",
       "      <td>268874</td>\n",
       "    </tr>\n",
       "    <tr>\n",
       "      <th>6</th>\n",
       "      <td>707.437270</td>\n",
       "      <td>194182</td>\n",
       "    </tr>\n",
       "    <tr>\n",
       "      <th>7</th>\n",
       "      <td>733.782011</td>\n",
       "      <td>144645</td>\n",
       "    </tr>\n",
       "    <tr>\n",
       "      <th>8</th>\n",
       "      <td>715.129261</td>\n",
       "      <td>134812</td>\n",
       "    </tr>\n",
       "    <tr>\n",
       "      <th>9</th>\n",
       "      <td>677.273066</td>\n",
       "      <td>288095</td>\n",
       "    </tr>\n",
       "    <tr>\n",
       "      <th>10</th>\n",
       "      <td>751.382648</td>\n",
       "      <td>478001</td>\n",
       "    </tr>\n",
       "    <tr>\n",
       "      <th>11</th>\n",
       "      <td>838.813633</td>\n",
       "      <td>581026</td>\n",
       "    </tr>\n",
       "    <tr>\n",
       "      <th>12</th>\n",
       "      <td>847.591613</td>\n",
       "      <td>595362</td>\n",
       "    </tr>\n",
       "    <tr>\n",
       "      <th>13</th>\n",
       "      <td>852.524563</td>\n",
       "      <td>588286</td>\n",
       "    </tr>\n",
       "    <tr>\n",
       "      <th>14</th>\n",
       "      <td>874.945290</td>\n",
       "      <td>610874</td>\n",
       "    </tr>\n",
       "    <tr>\n",
       "      <th>15</th>\n",
       "      <td>889.277433</td>\n",
       "      <td>636413</td>\n",
       "    </tr>\n",
       "    <tr>\n",
       "      <th>16</th>\n",
       "      <td>912.851560</td>\n",
       "      <td>634627</td>\n",
       "    </tr>\n",
       "    <tr>\n",
       "      <th>17</th>\n",
       "      <td>964.431305</td>\n",
       "      <td>655430</td>\n",
       "    </tr>\n",
       "    <tr>\n",
       "      <th>18</th>\n",
       "      <td>991.861064</td>\n",
       "      <td>625344</td>\n",
       "    </tr>\n",
       "    <tr>\n",
       "      <th>19</th>\n",
       "      <td>978.725291</td>\n",
       "      <td>544599</td>\n",
       "    </tr>\n",
       "    <tr>\n",
       "      <th>20</th>\n",
       "      <td>949.212655</td>\n",
       "      <td>646522</td>\n",
       "    </tr>\n",
       "    <tr>\n",
       "      <th>21</th>\n",
       "      <td>874.786441</td>\n",
       "      <td>772658</td>\n",
       "    </tr>\n",
       "    <tr>\n",
       "      <th>22</th>\n",
       "      <td>806.122814</td>\n",
       "      <td>798303</td>\n",
       "    </tr>\n",
       "    <tr>\n",
       "      <th>23</th>\n",
       "      <td>777.098751</td>\n",
       "      <td>752734</td>\n",
       "    </tr>\n",
       "  </tbody>\n",
       "</table>\n",
       "</div>"
      ],
      "text/plain": [
       "              duration        \n",
       "                  mean   count\n",
       "start_hour                    \n",
       "0           777.696032  749756\n",
       "1           797.353497  722441\n",
       "2           801.640528  629353\n",
       "3           778.964497  493109\n",
       "4           724.697923  360269\n",
       "5           701.713323  268874\n",
       "6           707.437270  194182\n",
       "7           733.782011  144645\n",
       "8           715.129261  134812\n",
       "9           677.273066  288095\n",
       "10          751.382648  478001\n",
       "11          838.813633  581026\n",
       "12          847.591613  595362\n",
       "13          852.524563  588286\n",
       "14          874.945290  610874\n",
       "15          889.277433  636413\n",
       "16          912.851560  634627\n",
       "17          964.431305  655430\n",
       "18          991.861064  625344\n",
       "19          978.725291  544599\n",
       "20          949.212655  646522\n",
       "21          874.786441  772658\n",
       "22          806.122814  798303\n",
       "23          777.098751  752734"
      ]
     },
     "execution_count": 150,
     "metadata": {},
     "output_type": "execute_result"
    }
   ],
   "source": [
    "gr_hour = train_orig[['start_hour', 'duration']].groupby('start_hour').agg(['mean', 'count'])\n",
    "gr_hour"
   ]
  },
  {
   "cell_type": "markdown",
   "metadata": {},
   "source": [
    "### Extract features from coordinates"
   ]
  },
  {
   "cell_type": "markdown",
   "metadata": {},
   "source": [
    "##### Haversine distance between two points"
   ]
  },
  {
   "cell_type": "code",
   "execution_count": 53,
   "metadata": {},
   "outputs": [],
   "source": [
    "# Start and end location data were converted to distance\n",
    "def get_vincenty_dist(row):\n",
    "    coords_1 = (row['start_lat'], row['start_lng'])\n",
    "    coords_2 = (row['end_lat'], row['end_lng'])\n",
    "#     return round(vincenty(coords_1, coords_2).m)\n",
    "    return round(great_circle(coords_1, coords_2).m)\n",
    "\n",
    "train_orig['dist'] = train_orig.apply(get_vincenty_dist, axis=1)\n",
    "test_orig['dist'] = test_orig.apply(get_vincenty_dist, axis=1)"
   ]
  },
  {
   "cell_type": "markdown",
   "metadata": {},
   "source": [
    "##### Manhattan distance between two points"
   ]
  },
  {
   "cell_type": "code",
   "execution_count": 63,
   "metadata": {},
   "outputs": [
    {
     "data": {
      "text/plain": [
       "'2018-03-03 10:29:40.403980'"
      ]
     },
     "execution_count": 63,
     "metadata": {},
     "output_type": "execute_result"
    }
   ],
   "source": [
    "str(datetime.now())"
   ]
  },
  {
   "cell_type": "code",
   "execution_count": 68,
   "metadata": {},
   "outputs": [],
   "source": [
    "# Distance in terms of latitude\n",
    "def get_lat_dist(row):\n",
    "    coords_1 = (row['start_lat'], 0)\n",
    "    coords_2 = (row['end_lat'], 0)\n",
    "\n",
    "    return round(great_circle(coords_1, coords_2).m)\n",
    "train_orig['lat_dist'] = train_orig.apply(get_lat_dist, axis=1)\n",
    "test_orig['lat_dist'] = test_orig.apply(get_lat_dist, axis=1)"
   ]
  },
  {
   "cell_type": "code",
   "execution_count": 65,
   "metadata": {},
   "outputs": [
    {
     "data": {
      "text/plain": [
       "'2018-03-03 10:57:39.533167'"
      ]
     },
     "execution_count": 65,
     "metadata": {},
     "output_type": "execute_result"
    }
   ],
   "source": [
    "str(datetime.now())"
   ]
  },
  {
   "cell_type": "code",
   "execution_count": 66,
   "metadata": {
    "collapsed": true
   },
   "outputs": [],
   "source": [
    "# Distance in terms of longitude\n",
    "def get_lng_dist(row):\n",
    "    coords_1 = (0, row['start_lng'])\n",
    "    coords_2 = (0, row['end_lng'])\n",
    "\n",
    "    return round(great_circle(coords_1, coords_2).m)\n",
    "train_orig['lng_dist'] = train_orig.apply(get_lng_dist, axis=1)\n",
    "test_orig['lng_dist'] = test_orig.apply(get_lng_dist, axis=1)"
   ]
  },
  {
   "cell_type": "code",
   "execution_count": 69,
   "metadata": {},
   "outputs": [],
   "source": [
    "train_orig['manhattan_dist'] = train_orig['lat_dist'] + train_orig['lng_dist']\n",
    "test_orig['manhattan_dist'] = test_orig['lat_dist'] + test_orig['lng_dist']"
   ]
  },
  {
   "cell_type": "code",
   "execution_count": 70,
   "metadata": {
    "collapsed": true
   },
   "outputs": [],
   "source": [
    "del train_orig['lat_dist']\n",
    "del train_orig['lng_dist']\n",
    "del test_orig['lat_dist']\n",
    "del test_orig['lng_dist']"
   ]
  },
  {
   "cell_type": "markdown",
   "metadata": {},
   "source": [
    "##### Region data for coordinates"
   ]
  },
  {
   "cell_type": "code",
   "execution_count": 71,
   "metadata": {
    "collapsed": true
   },
   "outputs": [],
   "source": [
    "lngmin = min(desc.loc['min', 'start_lng'], desc.loc['min', 'end_lng'])\n",
    "lngmax = max(desc.loc['max', 'start_lng'], desc.loc['max', 'end_lng'])\n",
    "latmin = min(desc.loc['min', 'start_lat'], desc.loc['min', 'end_lat'])\n",
    "latmax = max(desc.loc['max', 'start_lat'], desc.loc['max', 'end_lat'])\n",
    "def get_loc(lat, lng):\n",
    "    coordinates = (lat, lng)\n",
    "    results = rg.search(coordinates)\n",
    "    return results[0]['name'], results[0]['admin1'], results[0]['admin2']"
   ]
  },
  {
   "cell_type": "code",
   "execution_count": null,
   "metadata": {
    "collapsed": true
   },
   "outputs": [],
   "source": [
    "# c = 0\n",
    "cols = ['lat', 'lng', 'region', 'admin1', 'admin2']\n",
    "df_regions = pd.DataFrame(columns=cols)\n",
    "for lng in np.arange(round(lngmin,2), round(lngmax,2), 0.01):\n",
    "    for lat in np.arange(round(latmin,2), round(latmax,2), 0.01):\n",
    "#         c += 1\n",
    "#         if c%100==0:\n",
    "#             print(c, lat, lng)\n",
    "        reg, adm1, adm2 = get_loc(lat, lng)\n",
    "        df = pd.DataFrame([[lat, lng, reg, adm1, adm2]], columns=cols)\n",
    "        df_regions = df_regions.append(df)\n",
    "df_regions.to_csv('regions.csv', index=None)"
   ]
  },
  {
   "cell_type": "code",
   "execution_count": 72,
   "metadata": {},
   "outputs": [
    {
     "data": {
      "text/plain": [
       "(7437, 5)"
      ]
     },
     "execution_count": 72,
     "metadata": {},
     "output_type": "execute_result"
    }
   ],
   "source": [
    "regions = pd.read_csv('regions.csv')\n",
    "regions.shape"
   ]
  },
  {
   "cell_type": "code",
   "execution_count": 73,
   "metadata": {
    "collapsed": true
   },
   "outputs": [],
   "source": [
    "# Fill missing values\n",
    "regions.fillna(method='ffill', inplace=True)"
   ]
  },
  {
   "cell_type": "code",
   "execution_count": 74,
   "metadata": {
    "collapsed": true
   },
   "outputs": [],
   "source": [
    "# Convert to intereg to find exact match when merging the data\n",
    "train_orig['start_lng_short'] = (train_orig['start_lng']*100).astype(int)\n",
    "train_orig['start_lat_short'] = (train_orig['start_lat']*100).astype(int)\n",
    "train_orig['end_lng_short'] = (train_orig['end_lng']*100).astype(int)\n",
    "train_orig['end_lat_short'] = (train_orig['end_lat']*100).astype(int)\n",
    "test_orig['start_lng_short'] = (test_orig['start_lng']*100).astype(int)\n",
    "test_orig['start_lat_short'] = (test_orig['start_lat']*100).astype(int)\n",
    "test_orig['end_lng_short'] = (test_orig['end_lng']*100).astype(int)\n",
    "test_orig['end_lat_short'] = (test_orig['end_lat']*100).astype(int)\n",
    "regions['lat'] = (regions['lat']*100).astype(int)\n",
    "regions['lng'] = (regions['lng']*100).astype(int)"
   ]
  },
  {
   "cell_type": "code",
   "execution_count": 75,
   "metadata": {},
   "outputs": [
    {
     "data": {
      "text/plain": [
       "((12905719, 23), (1434345, 22))"
      ]
     },
     "execution_count": 75,
     "metadata": {},
     "output_type": "execute_result"
    }
   ],
   "source": [
    "train_orig = pd.merge(train_orig, regions, left_on=['start_lng_short','start_lat_short'], right_on=['lng', 'lat'], how='left')\n",
    "test_orig = pd.merge(test_orig, regions, left_on=['start_lng_short','start_lat_short'], right_on=['lng', 'lat'], how='left')\n",
    "train_orig.shape, test_orig.shape"
   ]
  },
  {
   "cell_type": "code",
   "execution_count": 76,
   "metadata": {
    "collapsed": true
   },
   "outputs": [],
   "source": [
    "del train_orig['start_lng_short']\n",
    "del train_orig['start_lat_short']\n",
    "del train_orig['end_lng_short']\n",
    "del train_orig['end_lat_short']\n",
    "del train_orig['lat']\n",
    "del train_orig['lng']\n",
    "del test_orig['start_lng_short']\n",
    "del test_orig['start_lat_short']\n",
    "del test_orig['end_lng_short']\n",
    "del test_orig['end_lat_short']\n",
    "del test_orig['lat']\n",
    "del test_orig['lng']"
   ]
  },
  {
   "cell_type": "code",
   "execution_count": 77,
   "metadata": {
    "collapsed": true
   },
   "outputs": [],
   "source": [
    "# Remove unneeded columns\n",
    "del train_orig['start_timestamp']\n",
    "del train_orig['start_datetime']\n",
    "del test_orig['start_timestamp']\n",
    "del test_orig['start_datetime']"
   ]
  },
  {
   "cell_type": "code",
   "execution_count": 78,
   "metadata": {},
   "outputs": [
    {
     "data": {
      "text/html": [
       "<div>\n",
       "<style>\n",
       "    .dataframe thead tr:only-child th {\n",
       "        text-align: right;\n",
       "    }\n",
       "\n",
       "    .dataframe thead th {\n",
       "        text-align: left;\n",
       "    }\n",
       "\n",
       "    .dataframe tbody tr th {\n",
       "        vertical-align: top;\n",
       "    }\n",
       "</style>\n",
       "<table border=\"1\" class=\"dataframe\">\n",
       "  <thead>\n",
       "    <tr style=\"text-align: right;\">\n",
       "      <th></th>\n",
       "      <th>row_id</th>\n",
       "      <th>start_lng</th>\n",
       "      <th>start_lat</th>\n",
       "      <th>end_lng</th>\n",
       "      <th>end_lat</th>\n",
       "      <th>duration</th>\n",
       "      <th>start_weekday</th>\n",
       "      <th>start_hour</th>\n",
       "      <th>start_month</th>\n",
       "      <th>start_day</th>\n",
       "      <th>dist</th>\n",
       "      <th>manhattan_dist</th>\n",
       "      <th>region</th>\n",
       "      <th>admin1</th>\n",
       "      <th>admin2</th>\n",
       "    </tr>\n",
       "  </thead>\n",
       "  <tbody>\n",
       "    <tr>\n",
       "      <th>0</th>\n",
       "      <td>0</td>\n",
       "      <td>-74.009087</td>\n",
       "      <td>40.713818</td>\n",
       "      <td>-74.004326</td>\n",
       "      <td>40.719986</td>\n",
       "      <td>112</td>\n",
       "      <td>5</td>\n",
       "      <td>23</td>\n",
       "      <td>1</td>\n",
       "      <td>10</td>\n",
       "      <td>795</td>\n",
       "      <td>1216</td>\n",
       "      <td>New York City</td>\n",
       "      <td>New York</td>\n",
       "      <td>Kings County</td>\n",
       "    </tr>\n",
       "    <tr>\n",
       "      <th>1</th>\n",
       "      <td>1</td>\n",
       "      <td>-73.971176</td>\n",
       "      <td>40.762428</td>\n",
       "      <td>-74.004181</td>\n",
       "      <td>40.742653</td>\n",
       "      <td>1159</td>\n",
       "      <td>5</td>\n",
       "      <td>23</td>\n",
       "      <td>1</td>\n",
       "      <td>10</td>\n",
       "      <td>3546</td>\n",
       "      <td>5870</td>\n",
       "      <td>Manhattan</td>\n",
       "      <td>New York</td>\n",
       "      <td>New York County</td>\n",
       "    </tr>\n",
       "    <tr>\n",
       "      <th>2</th>\n",
       "      <td>2</td>\n",
       "      <td>-73.994957</td>\n",
       "      <td>40.745079</td>\n",
       "      <td>-73.999939</td>\n",
       "      <td>40.734650</td>\n",
       "      <td>281</td>\n",
       "      <td>3</td>\n",
       "      <td>22</td>\n",
       "      <td>1</td>\n",
       "      <td>15</td>\n",
       "      <td>1234</td>\n",
       "      <td>1714</td>\n",
       "      <td>Weehawken</td>\n",
       "      <td>New Jersey</td>\n",
       "      <td>Hudson County</td>\n",
       "    </tr>\n",
       "    <tr>\n",
       "      <th>3</th>\n",
       "      <td>3</td>\n",
       "      <td>-73.991127</td>\n",
       "      <td>40.750080</td>\n",
       "      <td>-73.988609</td>\n",
       "      <td>40.734890</td>\n",
       "      <td>636</td>\n",
       "      <td>3</td>\n",
       "      <td>22</td>\n",
       "      <td>1</td>\n",
       "      <td>15</td>\n",
       "      <td>1703</td>\n",
       "      <td>1970</td>\n",
       "      <td>Weehawken</td>\n",
       "      <td>New Jersey</td>\n",
       "      <td>Hudson County</td>\n",
       "    </tr>\n",
       "    <tr>\n",
       "      <th>4</th>\n",
       "      <td>4</td>\n",
       "      <td>-73.945511</td>\n",
       "      <td>40.773724</td>\n",
       "      <td>-73.987434</td>\n",
       "      <td>40.755707</td>\n",
       "      <td>705</td>\n",
       "      <td>6</td>\n",
       "      <td>3</td>\n",
       "      <td>1</td>\n",
       "      <td>25</td>\n",
       "      <td>4061</td>\n",
       "      <td>6667</td>\n",
       "      <td>Manhattan</td>\n",
       "      <td>New York</td>\n",
       "      <td>New York County</td>\n",
       "    </tr>\n",
       "  </tbody>\n",
       "</table>\n",
       "</div>"
      ],
      "text/plain": [
       "   row_id  start_lng  start_lat    end_lng   end_lat  duration  start_weekday  \\\n",
       "0       0 -74.009087  40.713818 -74.004326 40.719986       112              5   \n",
       "1       1 -73.971176  40.762428 -74.004181 40.742653      1159              5   \n",
       "2       2 -73.994957  40.745079 -73.999939 40.734650       281              3   \n",
       "3       3 -73.991127  40.750080 -73.988609 40.734890       636              3   \n",
       "4       4 -73.945511  40.773724 -73.987434 40.755707       705              6   \n",
       "\n",
       "   start_hour  start_month  start_day  dist  manhattan_dist         region  \\\n",
       "0          23            1         10   795            1216  New York City   \n",
       "1          23            1         10  3546            5870      Manhattan   \n",
       "2          22            1         15  1234            1714      Weehawken   \n",
       "3          22            1         15  1703            1970      Weehawken   \n",
       "4           3            1         25  4061            6667      Manhattan   \n",
       "\n",
       "       admin1           admin2  \n",
       "0    New York     Kings County  \n",
       "1    New York  New York County  \n",
       "2  New Jersey    Hudson County  \n",
       "3  New Jersey    Hudson County  \n",
       "4    New York  New York County  "
      ]
     },
     "execution_count": 78,
     "metadata": {},
     "output_type": "execute_result"
    }
   ],
   "source": [
    "train_orig.head()"
   ]
  },
  {
   "cell_type": "code",
   "execution_count": 79,
   "metadata": {
    "collapsed": true
   },
   "outputs": [],
   "source": [
    "test_orig.to_csv('testing_data1.csv', index=None)"
   ]
  },
  {
   "cell_type": "code",
   "execution_count": 80,
   "metadata": {
    "collapsed": true
   },
   "outputs": [],
   "source": [
    "train_orig.to_csv('training_data1.csv', index=None)"
   ]
  },
  {
   "cell_type": "markdown",
   "metadata": {},
   "source": [
    "### One Hot Encoding for categorical data"
   ]
  },
  {
   "cell_type": "code",
   "execution_count": null,
   "metadata": {
    "collapsed": true
   },
   "outputs": [],
   "source": [
    "weekday_map = {0: 'Monday', 1: 'Tuesday', 2: 'Wednesday', 3: 'Thursday', 4: 'Friday', 5: 'Saturday', 6: 'Sunday'}\n",
    "encoding_weekday = pd.get_dummies(train_orig.start_weekday)\n",
    "encoding_weekday.rename(columns=weekday_map, inplace=True)\n",
    "train_orig2 = pd.merge(train_orig, encoding_weekday, left_index=True, right_index=True)\n",
    "train_orig2.shape"
   ]
  },
  {
   "cell_type": "code",
   "execution_count": null,
   "metadata": {
    "collapsed": true
   },
   "outputs": [],
   "source": [
    "month_map = {1:'Jan', 2:'Feb', 3:'Mar', 4:'Apr', 5:'May', 6:'Jun', 7:'Jul', 8:'Aug', 9:'Sep', 10:'Oct', 11:'Nov', 12:'Dec'}\n",
    "encoding_month = pd.get_dummies(train_orig2.start_month)\n",
    "encoding_month.rename(columns=month_map, inplace=True)\n",
    "train_orig2 = pd.merge(train_orig2, encoding_month, left_index=True, right_index=True)\n",
    "train_orig2.shape"
   ]
  },
  {
   "cell_type": "code",
   "execution_count": null,
   "metadata": {
    "collapsed": true
   },
   "outputs": [],
   "source": [
    "hour_map = {1: 'hour1',\n",
    "            2: 'hour2',\n",
    "            3: 'hour3',\n",
    "            4: 'hour4',\n",
    "            5: 'hour5',\n",
    "            6: 'hour6',\n",
    "            7: 'hour7',\n",
    "            8: 'hour8',\n",
    "            9: 'hour9',\n",
    "            10: 'hour10',\n",
    "            11: 'hour11',\n",
    "            12: 'hour12',\n",
    "            13: 'hour13',\n",
    "            14: 'hour14',\n",
    "            15: 'hour15',\n",
    "            16: 'hour16',\n",
    "            17: 'hour17',\n",
    "            18: 'hour18',\n",
    "            19: 'hour19',\n",
    "            20: 'hour20',\n",
    "            21: 'hour21',\n",
    "            22: 'hour22',\n",
    "            23: 'hour23',\n",
    "            0: 'hour0'}\n",
    "encoding_hour = pd.get_dummies(train_orig2.start_hour)\n",
    "encoding_hour.rename(columns=hour_map, inplace=True)\n",
    "train_orig2 = pd.merge(train_orig2, encoding_hour, left_index=True, right_index=True)\n",
    "train_orig2.shape"
   ]
  },
  {
   "cell_type": "code",
   "execution_count": null,
   "metadata": {
    "collapsed": true
   },
   "outputs": [],
   "source": [
    "mapping = {}\n",
    "for i in train_orig2.region.unique():\n",
    "    mapping[str(i)] = 'reg_'+str(i)\n",
    "encoding = pd.get_dummies(train_orig2.region)\n",
    "encoding.rename(columns=mapping, inplace=True)\n",
    "train_orig2 = pd.merge(train_orig2, encoding, left_index=True, right_index=True)\n",
    "train_orig2.shape"
   ]
  },
  {
   "cell_type": "code",
   "execution_count": null,
   "metadata": {
    "collapsed": true
   },
   "outputs": [],
   "source": [
    "mapping = {}\n",
    "for i in train_orig2.admin1.unique():\n",
    "    mapping[str(i)] = 'adm1_'+str(i)\n",
    "encoding = pd.get_dummies(train_orig2.admin1)\n",
    "encoding.rename(columns=mapping, inplace=True)\n",
    "train_orig2 = pd.merge(train_orig2, encoding, left_index=True, right_index=True)\n",
    "train_orig2.shape"
   ]
  },
  {
   "cell_type": "code",
   "execution_count": null,
   "metadata": {
    "collapsed": true
   },
   "outputs": [],
   "source": [
    "mapping = {}\n",
    "for i in train_orig2.admin2.unique():\n",
    "    mapping[str(i)] = 'adm2_'+str(i)\n",
    "encoding = pd.get_dummies(train_orig2.admin2)\n",
    "encoding.rename(columns=mapping, inplace=True)\n",
    "train_orig2 = pd.merge(train_orig2, encoding, left_index=True, right_index=True)\n",
    "train_orig2.shape"
   ]
  },
  {
   "cell_type": "code",
   "execution_count": null,
   "metadata": {
    "collapsed": true
   },
   "outputs": [],
   "source": [
    "del train_orig2['start_weekday']\n",
    "del train_orig2['start_month']\n",
    "del train_orig2['start_hour']\n",
    "del train_orig2['region']\n",
    "del train_orig2['admin1']\n",
    "del train_orig2['admin2']"
   ]
  },
  {
   "cell_type": "markdown",
   "metadata": {},
   "source": [
    "# Exploratory Analysis"
   ]
  },
  {
   "cell_type": "markdown",
   "metadata": {},
   "source": [
    "# Prepare Data For Training"
   ]
  },
  {
   "cell_type": "code",
   "execution_count": 88,
   "metadata": {},
   "outputs": [],
   "source": [
    "del train_orig['start_month']\n",
    "del train_orig['start_day']\n",
    "del test_orig['start_month']\n",
    "del test_orig['start_day']"
   ]
  },
  {
   "cell_type": "code",
   "execution_count": 89,
   "metadata": {},
   "outputs": [
    {
     "name": "stdout",
     "output_type": "stream",
     "text": [
      "region\n",
      "admin1\n",
      "admin2\n"
     ]
    }
   ],
   "source": [
    "for c in train_orig.columns:\n",
    "    if train_orig[c].dtype == 'object':\n",
    "        print(c)\n",
    "        lbl = preprocessing.LabelEncoder()\n",
    "        lbl.fit(list(train_orig[c].values)) \n",
    "        train_orig[c] = lbl.transform(list(train_orig[c].values))\n",
    "\n",
    "        lbl.fit(list(test_orig[c].values)) \n",
    "        test_orig[c] = lbl.transform(list(test_orig[c].values))"
   ]
  },
  {
   "cell_type": "code",
   "execution_count": 96,
   "metadata": {},
   "outputs": [
    {
     "data": {
      "text/html": [
       "<div>\n",
       "<style>\n",
       "    .dataframe thead tr:only-child th {\n",
       "        text-align: right;\n",
       "    }\n",
       "\n",
       "    .dataframe thead th {\n",
       "        text-align: left;\n",
       "    }\n",
       "\n",
       "    .dataframe tbody tr th {\n",
       "        vertical-align: top;\n",
       "    }\n",
       "</style>\n",
       "<table border=\"1\" class=\"dataframe\">\n",
       "  <thead>\n",
       "    <tr style=\"text-align: right;\">\n",
       "      <th></th>\n",
       "      <th>row_id</th>\n",
       "      <th>start_lng</th>\n",
       "      <th>start_lat</th>\n",
       "      <th>end_lng</th>\n",
       "      <th>end_lat</th>\n",
       "      <th>duration</th>\n",
       "      <th>start_weekday</th>\n",
       "      <th>start_hour</th>\n",
       "      <th>dist</th>\n",
       "      <th>manhattan_dist</th>\n",
       "      <th>region</th>\n",
       "      <th>admin1</th>\n",
       "      <th>admin2</th>\n",
       "    </tr>\n",
       "  </thead>\n",
       "  <tbody>\n",
       "    <tr>\n",
       "      <th>0</th>\n",
       "      <td>0</td>\n",
       "      <td>-74.009087</td>\n",
       "      <td>40.713818</td>\n",
       "      <td>-74.004326</td>\n",
       "      <td>40.719986</td>\n",
       "      <td>112</td>\n",
       "      <td>5</td>\n",
       "      <td>23</td>\n",
       "      <td>795</td>\n",
       "      <td>1216</td>\n",
       "      <td>200</td>\n",
       "      <td>2</td>\n",
       "      <td>5</td>\n",
       "    </tr>\n",
       "    <tr>\n",
       "      <th>1</th>\n",
       "      <td>1</td>\n",
       "      <td>-73.971176</td>\n",
       "      <td>40.762428</td>\n",
       "      <td>-74.004181</td>\n",
       "      <td>40.742653</td>\n",
       "      <td>1159</td>\n",
       "      <td>5</td>\n",
       "      <td>23</td>\n",
       "      <td>3546</td>\n",
       "      <td>5870</td>\n",
       "      <td>171</td>\n",
       "      <td>2</td>\n",
       "      <td>10</td>\n",
       "    </tr>\n",
       "    <tr>\n",
       "      <th>2</th>\n",
       "      <td>2</td>\n",
       "      <td>-73.994957</td>\n",
       "      <td>40.745079</td>\n",
       "      <td>-73.999939</td>\n",
       "      <td>40.734650</td>\n",
       "      <td>281</td>\n",
       "      <td>3</td>\n",
       "      <td>22</td>\n",
       "      <td>1234</td>\n",
       "      <td>1714</td>\n",
       "      <td>322</td>\n",
       "      <td>1</td>\n",
       "      <td>4</td>\n",
       "    </tr>\n",
       "    <tr>\n",
       "      <th>3</th>\n",
       "      <td>3</td>\n",
       "      <td>-73.991127</td>\n",
       "      <td>40.750080</td>\n",
       "      <td>-73.988609</td>\n",
       "      <td>40.734890</td>\n",
       "      <td>636</td>\n",
       "      <td>3</td>\n",
       "      <td>22</td>\n",
       "      <td>1703</td>\n",
       "      <td>1970</td>\n",
       "      <td>322</td>\n",
       "      <td>1</td>\n",
       "      <td>4</td>\n",
       "    </tr>\n",
       "    <tr>\n",
       "      <th>4</th>\n",
       "      <td>4</td>\n",
       "      <td>-73.945511</td>\n",
       "      <td>40.773724</td>\n",
       "      <td>-73.987434</td>\n",
       "      <td>40.755707</td>\n",
       "      <td>705</td>\n",
       "      <td>6</td>\n",
       "      <td>3</td>\n",
       "      <td>4061</td>\n",
       "      <td>6667</td>\n",
       "      <td>171</td>\n",
       "      <td>2</td>\n",
       "      <td>10</td>\n",
       "    </tr>\n",
       "  </tbody>\n",
       "</table>\n",
       "</div>"
      ],
      "text/plain": [
       "   row_id  start_lng  start_lat    end_lng   end_lat  duration  start_weekday  \\\n",
       "0       0 -74.009087  40.713818 -74.004326 40.719986       112              5   \n",
       "1       1 -73.971176  40.762428 -74.004181 40.742653      1159              5   \n",
       "2       2 -73.994957  40.745079 -73.999939 40.734650       281              3   \n",
       "3       3 -73.991127  40.750080 -73.988609 40.734890       636              3   \n",
       "4       4 -73.945511  40.773724 -73.987434 40.755707       705              6   \n",
       "\n",
       "   start_hour  dist  manhattan_dist  region  admin1  admin2  \n",
       "0          23   795            1216     200       2       5  \n",
       "1          23  3546            5870     171       2      10  \n",
       "2          22  1234            1714     322       1       4  \n",
       "3          22  1703            1970     322       1       4  \n",
       "4           3  4061            6667     171       2      10  "
      ]
     },
     "execution_count": 96,
     "metadata": {},
     "output_type": "execute_result"
    }
   ],
   "source": [
    "train_orig.head()"
   ]
  },
  {
   "cell_type": "code",
   "execution_count": 97,
   "metadata": {},
   "outputs": [
    {
     "data": {
      "text/plain": [
       "((11615147, 11), (1290572, 11), (11615147,), (1290572,))"
      ]
     },
     "execution_count": 97,
     "metadata": {},
     "output_type": "execute_result"
    }
   ],
   "source": [
    "# Split data to train and test sets\n",
    "y_all = train_orig['duration']\n",
    "x_all = train_orig.drop(['row_id', 'duration'], axis=1)\n",
    "\n",
    "x_train, x_test, y_train, y_test = train_test_split(x_all, y_all, test_size=0.1, random_state=2018)\n",
    "x_train.shape, x_test.shape, y_train.shape, y_test.shape"
   ]
  },
  {
   "cell_type": "markdown",
   "metadata": {},
   "source": [
    "### Linear Regression"
   ]
  },
  {
   "cell_type": "code",
   "execution_count": 98,
   "metadata": {},
   "outputs": [
    {
     "name": "stderr",
     "output_type": "stream",
     "text": [
      "/Users/tamirlan/anaconda3/lib/python3.6/site-packages/scipy/linalg/basic.py:1226: RuntimeWarning: internal gelsd driver lwork query error, required iwork dimension not returned. This is likely the result of LAPACK bug 0038, fixed in LAPACK 3.2.2 (released July 21, 2010). Falling back to 'gelss' driver.\n",
      "  warnings.warn(mesg, RuntimeWarning)\n"
     ]
    }
   ],
   "source": [
    "lm = LinearRegression(n_jobs = 3)\n",
    "lm = lm.fit(x_train, y_train)"
   ]
  },
  {
   "cell_type": "code",
   "execution_count": 99,
   "metadata": {},
   "outputs": [
    {
     "name": "stdout",
     "output_type": "stream",
     "text": [
      "Train Mean Absolute Error: 284.3962160558512\n",
      "Test Mean Absolute Error: 284.5284684523356\n"
     ]
    }
   ],
   "source": [
    "pred_train = lm.predict(x_train)\n",
    "print('Train Mean Absolute Error:', mean_absolute_error(y_train, pred_train))\n",
    "\n",
    "pred_test = lm.predict(x_test)\n",
    "print('Test Mean Absolute Error:', mean_absolute_error(y_test, pred_test))\n",
    "# Original Features only\n",
    "# Train Mean Absolute Error: 424.404428439\n",
    "# Test Mean Absolute Error: 424.337978903"
   ]
  },
  {
   "cell_type": "code",
   "execution_count": 103,
   "metadata": {},
   "outputs": [
    {
     "name": "stderr",
     "output_type": "stream",
     "text": [
      "/Users/tamirlan/anaconda3/lib/python3.6/site-packages/ipykernel_launcher.py:1: SettingWithCopyWarning: \n",
      "A value is trying to be set on a copy of a slice from a DataFrame.\n",
      "Try using .loc[row_indexer,col_indexer] = value instead\n",
      "\n",
      "See the caveats in the documentation: http://pandas.pydata.org/pandas-docs/stable/indexing.html#indexing-view-versus-copy\n",
      "  \"\"\"Entry point for launching an IPython kernel.\n",
      "/Users/tamirlan/anaconda3/lib/python3.6/site-packages/ipykernel_launcher.py:2: SettingWithCopyWarning: \n",
      "A value is trying to be set on a copy of a slice from a DataFrame.\n",
      "Try using .loc[row_indexer,col_indexer] = value instead\n",
      "\n",
      "See the caveats in the documentation: http://pandas.pydata.org/pandas-docs/stable/indexing.html#indexing-view-versus-copy\n",
      "  \n"
     ]
    }
   ],
   "source": [
    "x_test['true'] = y_test\n",
    "x_test['pred'] = pred_test"
   ]
  },
  {
   "cell_type": "markdown",
   "metadata": {},
   "source": [
    "### XGBoost"
   ]
  },
  {
   "cell_type": "code",
   "execution_count": 143,
   "metadata": {
    "collapsed": true
   },
   "outputs": [],
   "source": [
    "# Hyperparameter Search\n",
    "params = {  \n",
    "    'n_estimators': range(80, 121, 10),\n",
    "    'max_depth': range(5,20),\n",
    "    'learning_rate': np.arange(0.01,0.3, 0.01),\n",
    "    'colsample_bytree': np.arange(0.3, 1, 0.05),\n",
    "    'subsample': np.arange(0.3, 1, 0.05),\n",
    "    'gamma': range(0, 10)\n",
    "}\n",
    "iters = 20\n",
    "\n",
    "xgbreg = XGBRegressor()"
   ]
  },
  {
   "cell_type": "code",
   "execution_count": null,
   "metadata": {
    "collapsed": true
   },
   "outputs": [],
   "source": [
    "gs = RandomizedSearchCV(xgbreg, params, n_iter=iters, n_jobs=20, scoring='neg_mean_squared_error', cv=5, random_state=223)\n",
    "gs.fit(x_train, y_train)"
   ]
  },
  {
   "cell_type": "code",
   "execution_count": null,
   "metadata": {
    "collapsed": true
   },
   "outputs": [],
   "source": [
    "xgb_model = gs.best_estimator_"
   ]
  },
  {
   "cell_type": "code",
   "execution_count": 144,
   "metadata": {
    "collapsed": true
   },
   "outputs": [],
   "source": [
    "xgb_model = XGBRegressor(n_estimators=100, max_depth=14, learning_rate=0.15, colsample_bytree=1, subsample=0.8, gamma=1, n_jobs=20, random_state=222)\n",
    "xgb_model = xgb_model.fit(x_train, y_train)"
   ]
  },
  {
   "cell_type": "code",
   "execution_count": 145,
   "metadata": {},
   "outputs": [
    {
     "name": "stdout",
     "output_type": "stream",
     "text": [
      "Test Mean Absolute Error: 188.5333007051882\n"
     ]
    }
   ],
   "source": [
    "pred_test = xgb_model.predict(x_test)\n",
    "print('Test Mean Absolute Error:', mean_absolute_error(y_test, pred_test))"
   ]
  },
  {
   "cell_type": "code",
   "execution_count": 146,
   "metadata": {},
   "outputs": [
    {
     "name": "stdout",
     "output_type": "stream",
     "text": [
      "Train Mean Absolute Error: 176.0152306472404\n"
     ]
    }
   ],
   "source": [
    "pred_train = xgb_model.predict(x_train)\n",
    "print('Train Mean Absolute Error:', mean_absolute_error(y_train, pred_train))"
   ]
  },
  {
   "cell_type": "code",
   "execution_count": 147,
   "metadata": {},
   "outputs": [
    {
     "data": {
      "text/plain": [
       "[('start_lng', 0.16613287),\n",
       " ('end_lng', 0.1627367),\n",
       " ('start_lat', 0.14970788),\n",
       " ('end_lat', 0.14670022),\n",
       " ('start_hour', 0.13240272),\n",
       " ('start_weekday', 0.09570397),\n",
       " ('dist', 0.05919853),\n",
       " ('manhattan_dist', 0.059139047),\n",
       " ('region', 0.018907504),\n",
       " ('admin2', 0.007167806),\n",
       " ('admin1', 0.0022027618)]"
      ]
     },
     "execution_count": 147,
     "metadata": {},
     "output_type": "execute_result"
    }
   ],
   "source": [
    "feat_scores = dict(zip(x_test.columns, xgb_model.feature_importances_))\n",
    "sorted_x = sorted(feat_scores.items(), key=operator.itemgetter(1), reverse=True)\n",
    "sorted_x"
   ]
  },
  {
   "cell_type": "code",
   "execution_count": null,
   "metadata": {
    "collapsed": true
   },
   "outputs": [],
   "source": [
    "fig, ax = plt.subplots(1, 1, figsize=(8, 10))\n",
    "xgb.plot_importance(xgb_model, height=0.5, ax=ax)"
   ]
  },
  {
   "cell_type": "markdown",
   "metadata": {},
   "source": [
    "### Random Forest"
   ]
  },
  {
   "cell_type": "code",
   "execution_count": 39,
   "metadata": {
    "collapsed": true
   },
   "outputs": [],
   "source": [
    "params = {  \n",
    "    'n_estimators': range(80, 121, 10),\n",
    "    'max_features':np.arange(0.3, 0.8, 0.05),\n",
    "    'max_depth':range(1, 11),\n",
    "    'min_samples_split':range(2, 21)#,\n",
    "#     'oob_score': True\n",
    "}\n",
    "    \n",
    "iters = 20\n",
    "\n",
    "rfreg = RandomForestRegressor()"
   ]
  },
  {
   "cell_type": "code",
   "execution_count": 62,
   "metadata": {},
   "outputs": [
    {
     "data": {
      "text/plain": [
       "RandomizedSearchCV(cv=5, error_score='raise',\n",
       "          estimator=RandomForestRegressor(bootstrap=True, criterion='mse', max_depth=None,\n",
       "           max_features='auto', max_leaf_nodes=None,\n",
       "           min_impurity_decrease=0.0, min_impurity_split=None,\n",
       "           min_samples_leaf=1, min_samples_split=2,\n",
       "           min_weight_fraction_leaf=0.0, n_estimators=10, n_jobs=1,\n",
       "           oob_score=False, random_state=None, verbose=0, warm_start=False),\n",
       "          fit_params=None, iid=True, n_iter=2, n_jobs=3,\n",
       "          param_distributions={'n_estimators': range(80, 121, 10), 'max_features': array([ 0.3 ,  0.35,  0.4 ,  0.45,  0.5 ,  0.55,  0.6 ,  0.65,  0.7 ,  0.75]), 'max_depth': range(1, 11), 'min_samples_split': range(2, 21)},\n",
       "          pre_dispatch='2*n_jobs', random_state=223, refit=True,\n",
       "          return_train_score='warn', scoring='neg_mean_squared_error',\n",
       "          verbose=0)"
      ]
     },
     "execution_count": 62,
     "metadata": {},
     "output_type": "execute_result"
    }
   ],
   "source": [
    "gs = RandomizedSearchCV(rfreg, params, n_iter=iters, n_jobs=20, scoring='neg_mean_squared_error', cv=5, random_state=223)#rmsle_scorer)\n",
    "gs.fit(x_train, y_train);"
   ]
  },
  {
   "cell_type": "code",
   "execution_count": 65,
   "metadata": {
    "scrolled": true
   },
   "outputs": [
    {
     "data": {
      "text/plain": [
       "RandomForestRegressor(bootstrap=True, criterion='mse', max_depth=7,\n",
       "           max_features=0.74999999999999989, max_leaf_nodes=None,\n",
       "           min_impurity_decrease=0.0, min_impurity_split=None,\n",
       "           min_samples_leaf=1, min_samples_split=15,\n",
       "           min_weight_fraction_leaf=0.0, n_estimators=100, n_jobs=1,\n",
       "           oob_score=False, random_state=None, verbose=0, warm_start=False)"
      ]
     },
     "execution_count": 65,
     "metadata": {},
     "output_type": "execute_result"
    }
   ],
   "source": [
    "rf_model = gs.best_estimator_"
   ]
  },
  {
   "cell_type": "code",
   "execution_count": 159,
   "metadata": {},
   "outputs": [],
   "source": [
    "rfreg = RandomForestRegressor(n_estimators=100, max_features= 'sqrt', max_depth=10, min_samples_split=1000)\n",
    "rf_model = rfreg.fit(x_train, y_train)"
   ]
  },
  {
   "cell_type": "code",
   "execution_count": 160,
   "metadata": {},
   "outputs": [
    {
     "data": {
      "text/plain": [
       "[('dist', 0.368434236516594),\n",
       " ('manhattan_dist', 0.30845146778939864),\n",
       " ('start_lng', 0.09515333048818081),\n",
       " ('start_hour', 0.06620763095200993),\n",
       " ('start_lat', 0.04996281558453046),\n",
       " ('end_lng', 0.04749838130381576),\n",
       " ('end_lat', 0.042100066274642696),\n",
       " ('start_weekday', 0.012120347838875795),\n",
       " ('admin2', 0.0058008011111678245),\n",
       " ('region', 0.0032135368556719217),\n",
       " ('admin1', 0.0010573852851122705)]"
      ]
     },
     "execution_count": 160,
     "metadata": {},
     "output_type": "execute_result"
    }
   ],
   "source": [
    "feat_scores = dict(zip(x_test.columns, rf_model.feature_importances_))\n",
    "sorted_x = sorted(feat_scores.items(), key=operator.itemgetter(1), reverse=True)\n",
    "sorted_x"
   ]
  },
  {
   "cell_type": "code",
   "execution_count": 161,
   "metadata": {},
   "outputs": [
    {
     "name": "stdout",
     "output_type": "stream",
     "text": [
      "Test Mean Absolute Error: 231.4016047877758\n"
     ]
    }
   ],
   "source": [
    "pred_test = rf_model.predict(x_test)\n",
    "print('Test Mean Absolute Error:', mean_absolute_error(y_test, pred_test))"
   ]
  },
  {
   "cell_type": "code",
   "execution_count": 162,
   "metadata": {},
   "outputs": [
    {
     "name": "stdout",
     "output_type": "stream",
     "text": [
      "Train Mean Absolute Error: 231.02344007679017\n"
     ]
    }
   ],
   "source": [
    "pred_train = rf_model.predict(x_train)\n",
    "print('Train Mean Absolute Error:', mean_absolute_error(y_train, pred_train))"
   ]
  },
  {
   "cell_type": "markdown",
   "metadata": {},
   "source": [
    "# Test data"
   ]
  },
  {
   "cell_type": "code",
   "execution_count": 111,
   "metadata": {},
   "outputs": [
    {
     "data": {
      "text/html": [
       "<div>\n",
       "<style>\n",
       "    .dataframe thead tr:only-child th {\n",
       "        text-align: right;\n",
       "    }\n",
       "\n",
       "    .dataframe thead th {\n",
       "        text-align: left;\n",
       "    }\n",
       "\n",
       "    .dataframe tbody tr th {\n",
       "        vertical-align: top;\n",
       "    }\n",
       "</style>\n",
       "<table border=\"1\" class=\"dataframe\">\n",
       "  <thead>\n",
       "    <tr style=\"text-align: right;\">\n",
       "      <th></th>\n",
       "      <th>start_lng</th>\n",
       "      <th>start_lat</th>\n",
       "      <th>end_lng</th>\n",
       "      <th>end_lat</th>\n",
       "      <th>start_weekday</th>\n",
       "      <th>start_hour</th>\n",
       "      <th>dist</th>\n",
       "      <th>manhattan_dist</th>\n",
       "      <th>region</th>\n",
       "      <th>admin1</th>\n",
       "      <th>admin2</th>\n",
       "    </tr>\n",
       "  </thead>\n",
       "  <tbody>\n",
       "    <tr>\n",
       "      <th>173470</th>\n",
       "      <td>-73.987640</td>\n",
       "      <td>40.757912</td>\n",
       "      <td>-73.968872</td>\n",
       "      <td>40.754978</td>\n",
       "      <td>5</td>\n",
       "      <td>3</td>\n",
       "      <td>1615</td>\n",
       "      <td>2413</td>\n",
       "      <td>322</td>\n",
       "      <td>1</td>\n",
       "      <td>4</td>\n",
       "    </tr>\n",
       "    <tr>\n",
       "      <th>5532641</th>\n",
       "      <td>-73.990509</td>\n",
       "      <td>40.741974</td>\n",
       "      <td>-74.004333</td>\n",
       "      <td>40.742409</td>\n",
       "      <td>4</td>\n",
       "      <td>20</td>\n",
       "      <td>1166</td>\n",
       "      <td>1586</td>\n",
       "      <td>322</td>\n",
       "      <td>1</td>\n",
       "      <td>4</td>\n",
       "    </tr>\n",
       "    <tr>\n",
       "      <th>7564336</th>\n",
       "      <td>-73.985397</td>\n",
       "      <td>40.752689</td>\n",
       "      <td>-74.157631</td>\n",
       "      <td>40.706451</td>\n",
       "      <td>4</td>\n",
       "      <td>12</td>\n",
       "      <td>15401</td>\n",
       "      <td>24300</td>\n",
       "      <td>322</td>\n",
       "      <td>1</td>\n",
       "      <td>4</td>\n",
       "    </tr>\n",
       "    <tr>\n",
       "      <th>8019554</th>\n",
       "      <td>-73.873375</td>\n",
       "      <td>40.773609</td>\n",
       "      <td>-73.946625</td>\n",
       "      <td>40.791798</td>\n",
       "      <td>4</td>\n",
       "      <td>12</td>\n",
       "      <td>6492</td>\n",
       "      <td>10170</td>\n",
       "      <td>307</td>\n",
       "      <td>2</td>\n",
       "      <td>1</td>\n",
       "    </tr>\n",
       "    <tr>\n",
       "      <th>2131563</th>\n",
       "      <td>-73.960693</td>\n",
       "      <td>40.772442</td>\n",
       "      <td>-74.008385</td>\n",
       "      <td>40.734806</td>\n",
       "      <td>0</td>\n",
       "      <td>23</td>\n",
       "      <td>5803</td>\n",
       "      <td>9491</td>\n",
       "      <td>171</td>\n",
       "      <td>2</td>\n",
       "      <td>10</td>\n",
       "    </tr>\n",
       "  </tbody>\n",
       "</table>\n",
       "</div>"
      ],
      "text/plain": [
       "         start_lng  start_lat    end_lng   end_lat  start_weekday  start_hour  \\\n",
       "173470  -73.987640  40.757912 -73.968872 40.754978              5           3   \n",
       "5532641 -73.990509  40.741974 -74.004333 40.742409              4          20   \n",
       "7564336 -73.985397  40.752689 -74.157631 40.706451              4          12   \n",
       "8019554 -73.873375  40.773609 -73.946625 40.791798              4          12   \n",
       "2131563 -73.960693  40.772442 -74.008385 40.734806              0          23   \n",
       "\n",
       "          dist  manhattan_dist  region  admin1  admin2  \n",
       "173470    1615            2413     322       1       4  \n",
       "5532641   1166            1586     322       1       4  \n",
       "7564336  15401           24300     322       1       4  \n",
       "8019554   6492           10170     307       2       1  \n",
       "2131563   5803            9491     171       2      10  "
      ]
     },
     "execution_count": 111,
     "metadata": {},
     "output_type": "execute_result"
    }
   ],
   "source": [
    "x_train.head()"
   ]
  },
  {
   "cell_type": "code",
   "execution_count": 148,
   "metadata": {},
   "outputs": [
    {
     "name": "stdout",
     "output_type": "stream",
     "text": [
      "(1434344, 12)\n",
      "(1434344, 12)\n"
     ]
    }
   ],
   "source": [
    "print(test_orig.shape)\n",
    "test_orig.drop_duplicates(subset='row_id', inplace=True)\n",
    "print(test_orig.shape)"
   ]
  },
  {
   "cell_type": "code",
   "execution_count": 149,
   "metadata": {
    "collapsed": true
   },
   "outputs": [],
   "source": [
    "x_final = test_orig.set_index('row_id')"
   ]
  },
  {
   "cell_type": "code",
   "execution_count": 150,
   "metadata": {},
   "outputs": [
    {
     "data": {
      "text/html": [
       "<div>\n",
       "<style>\n",
       "    .dataframe thead tr:only-child th {\n",
       "        text-align: right;\n",
       "    }\n",
       "\n",
       "    .dataframe thead th {\n",
       "        text-align: left;\n",
       "    }\n",
       "\n",
       "    .dataframe tbody tr th {\n",
       "        vertical-align: top;\n",
       "    }\n",
       "</style>\n",
       "<table border=\"1\" class=\"dataframe\">\n",
       "  <thead>\n",
       "    <tr style=\"text-align: right;\">\n",
       "      <th></th>\n",
       "      <th>start_lng</th>\n",
       "      <th>start_lat</th>\n",
       "      <th>end_lng</th>\n",
       "      <th>end_lat</th>\n",
       "      <th>start_weekday</th>\n",
       "      <th>start_hour</th>\n",
       "      <th>dist</th>\n",
       "      <th>manhattan_dist</th>\n",
       "      <th>region</th>\n",
       "      <th>admin1</th>\n",
       "      <th>admin2</th>\n",
       "    </tr>\n",
       "    <tr>\n",
       "      <th>row_id</th>\n",
       "      <th></th>\n",
       "      <th></th>\n",
       "      <th></th>\n",
       "      <th></th>\n",
       "      <th></th>\n",
       "      <th></th>\n",
       "      <th></th>\n",
       "      <th></th>\n",
       "      <th></th>\n",
       "      <th></th>\n",
       "      <th></th>\n",
       "    </tr>\n",
       "  </thead>\n",
       "  <tbody>\n",
       "    <tr>\n",
       "      <th>0</th>\n",
       "      <td>-73.993111</td>\n",
       "      <td>40.724289</td>\n",
       "      <td>-74.000977</td>\n",
       "      <td>40.735222</td>\n",
       "      <td>6</td>\n",
       "      <td>3</td>\n",
       "      <td>1385</td>\n",
       "      <td>2091</td>\n",
       "      <td>117</td>\n",
       "      <td>2</td>\n",
       "      <td>5</td>\n",
       "    </tr>\n",
       "    <tr>\n",
       "      <th>1</th>\n",
       "      <td>-73.971924</td>\n",
       "      <td>40.762749</td>\n",
       "      <td>-73.965698</td>\n",
       "      <td>40.771427</td>\n",
       "      <td>1</td>\n",
       "      <td>13</td>\n",
       "      <td>1099</td>\n",
       "      <td>1657</td>\n",
       "      <td>100</td>\n",
       "      <td>2</td>\n",
       "      <td>10</td>\n",
       "    </tr>\n",
       "    <tr>\n",
       "      <th>2</th>\n",
       "      <td>-73.953247</td>\n",
       "      <td>40.765816</td>\n",
       "      <td>-73.952843</td>\n",
       "      <td>40.772453</td>\n",
       "      <td>1</td>\n",
       "      <td>13</td>\n",
       "      <td>739</td>\n",
       "      <td>783</td>\n",
       "      <td>100</td>\n",
       "      <td>2</td>\n",
       "      <td>10</td>\n",
       "    </tr>\n",
       "    <tr>\n",
       "      <th>3</th>\n",
       "      <td>-73.986618</td>\n",
       "      <td>40.739353</td>\n",
       "      <td>-73.949158</td>\n",
       "      <td>40.805161</td>\n",
       "      <td>3</td>\n",
       "      <td>4</td>\n",
       "      <td>7971</td>\n",
       "      <td>11487</td>\n",
       "      <td>117</td>\n",
       "      <td>2</td>\n",
       "      <td>5</td>\n",
       "    </tr>\n",
       "    <tr>\n",
       "      <th>4</th>\n",
       "      <td>-73.968864</td>\n",
       "      <td>40.757317</td>\n",
       "      <td>-73.982521</td>\n",
       "      <td>40.771305</td>\n",
       "      <td>2</td>\n",
       "      <td>23</td>\n",
       "      <td>1935</td>\n",
       "      <td>3075</td>\n",
       "      <td>100</td>\n",
       "      <td>2</td>\n",
       "      <td>10</td>\n",
       "    </tr>\n",
       "  </tbody>\n",
       "</table>\n",
       "</div>"
      ],
      "text/plain": [
       "        start_lng  start_lat    end_lng   end_lat  start_weekday  start_hour  \\\n",
       "row_id                                                                         \n",
       "0      -73.993111  40.724289 -74.000977 40.735222              6           3   \n",
       "1      -73.971924  40.762749 -73.965698 40.771427              1          13   \n",
       "2      -73.953247  40.765816 -73.952843 40.772453              1          13   \n",
       "3      -73.986618  40.739353 -73.949158 40.805161              3           4   \n",
       "4      -73.968864  40.757317 -73.982521 40.771305              2          23   \n",
       "\n",
       "        dist  manhattan_dist  region  admin1  admin2  \n",
       "row_id                                                \n",
       "0       1385            2091     117       2       5  \n",
       "1       1099            1657     100       2      10  \n",
       "2        739             783     100       2      10  \n",
       "3       7971           11487     117       2       5  \n",
       "4       1935            3075     100       2      10  "
      ]
     },
     "execution_count": 150,
     "metadata": {},
     "output_type": "execute_result"
    }
   ],
   "source": [
    "x_final.head()"
   ]
  },
  {
   "cell_type": "code",
   "execution_count": 151,
   "metadata": {},
   "outputs": [],
   "source": [
    "# pred_final = lm.predict(x_final)\n",
    "pred_final = xgb_model.predict(x_final)\n",
    "# pred_final = rf_model.predict(x_final)"
   ]
  },
  {
   "cell_type": "code",
   "execution_count": 152,
   "metadata": {
    "collapsed": true
   },
   "outputs": [],
   "source": [
    "x_final['duration'] = pred_final"
   ]
  },
  {
   "cell_type": "code",
   "execution_count": 153,
   "metadata": {},
   "outputs": [],
   "source": [
    "x_final.reset_index(inplace=True)"
   ]
  },
  {
   "cell_type": "code",
   "execution_count": 154,
   "metadata": {
    "collapsed": true
   },
   "outputs": [],
   "source": [
    "x_final = x_final[['row_id', 'duration']]"
   ]
  },
  {
   "cell_type": "code",
   "execution_count": 155,
   "metadata": {},
   "outputs": [
    {
     "data": {
      "text/plain": [
       "(1434344, 2)"
      ]
     },
     "execution_count": 155,
     "metadata": {},
     "output_type": "execute_result"
    }
   ],
   "source": [
    "x_final.shape"
   ]
  },
  {
   "cell_type": "code",
   "execution_count": 156,
   "metadata": {},
   "outputs": [
    {
     "data": {
      "text/html": [
       "<div>\n",
       "<style>\n",
       "    .dataframe thead tr:only-child th {\n",
       "        text-align: right;\n",
       "    }\n",
       "\n",
       "    .dataframe thead th {\n",
       "        text-align: left;\n",
       "    }\n",
       "\n",
       "    .dataframe tbody tr th {\n",
       "        vertical-align: top;\n",
       "    }\n",
       "</style>\n",
       "<table border=\"1\" class=\"dataframe\">\n",
       "  <thead>\n",
       "    <tr style=\"text-align: right;\">\n",
       "      <th></th>\n",
       "      <th>row_id</th>\n",
       "      <th>duration</th>\n",
       "    </tr>\n",
       "  </thead>\n",
       "  <tbody>\n",
       "    <tr>\n",
       "      <th>0</th>\n",
       "      <td>0</td>\n",
       "      <td>489.578796</td>\n",
       "    </tr>\n",
       "    <tr>\n",
       "      <th>1</th>\n",
       "      <td>1</td>\n",
       "      <td>377.600159</td>\n",
       "    </tr>\n",
       "    <tr>\n",
       "      <th>2</th>\n",
       "      <td>2</td>\n",
       "      <td>312.014313</td>\n",
       "    </tr>\n",
       "    <tr>\n",
       "      <th>3</th>\n",
       "      <td>3</td>\n",
       "      <td>1018.906067</td>\n",
       "    </tr>\n",
       "    <tr>\n",
       "      <th>4</th>\n",
       "      <td>4</td>\n",
       "      <td>626.886902</td>\n",
       "    </tr>\n",
       "  </tbody>\n",
       "</table>\n",
       "</div>"
      ],
      "text/plain": [
       "   row_id    duration\n",
       "0       0  489.578796\n",
       "1       1  377.600159\n",
       "2       2  312.014313\n",
       "3       3 1018.906067\n",
       "4       4  626.886902"
      ]
     },
     "execution_count": 156,
     "metadata": {},
     "output_type": "execute_result"
    }
   ],
   "source": [
    "x_final.head() #XGB"
   ]
  },
  {
   "cell_type": "code",
   "execution_count": 140,
   "metadata": {},
   "outputs": [
    {
     "data": {
      "text/html": [
       "<div>\n",
       "<style>\n",
       "    .dataframe thead tr:only-child th {\n",
       "        text-align: right;\n",
       "    }\n",
       "\n",
       "    .dataframe thead th {\n",
       "        text-align: left;\n",
       "    }\n",
       "\n",
       "    .dataframe tbody tr th {\n",
       "        vertical-align: top;\n",
       "    }\n",
       "</style>\n",
       "<table border=\"1\" class=\"dataframe\">\n",
       "  <thead>\n",
       "    <tr style=\"text-align: right;\">\n",
       "      <th></th>\n",
       "      <th>row_id</th>\n",
       "      <th>duration</th>\n",
       "    </tr>\n",
       "  </thead>\n",
       "  <tbody>\n",
       "    <tr>\n",
       "      <th>0</th>\n",
       "      <td>0</td>\n",
       "      <td>456.444743</td>\n",
       "    </tr>\n",
       "    <tr>\n",
       "      <th>1</th>\n",
       "      <td>1</td>\n",
       "      <td>488.834834</td>\n",
       "    </tr>\n",
       "    <tr>\n",
       "      <th>2</th>\n",
       "      <td>2</td>\n",
       "      <td>439.338018</td>\n",
       "    </tr>\n",
       "    <tr>\n",
       "      <th>3</th>\n",
       "      <td>3</td>\n",
       "      <td>1301.070784</td>\n",
       "    </tr>\n",
       "    <tr>\n",
       "      <th>4</th>\n",
       "      <td>4</td>\n",
       "      <td>703.326905</td>\n",
       "    </tr>\n",
       "  </tbody>\n",
       "</table>\n",
       "</div>"
      ],
      "text/plain": [
       "   row_id    duration\n",
       "0       0  456.444743\n",
       "1       1  488.834834\n",
       "2       2  439.338018\n",
       "3       3 1301.070784\n",
       "4       4  703.326905"
      ]
     },
     "execution_count": 140,
     "metadata": {},
     "output_type": "execute_result"
    }
   ],
   "source": [
    "x_final.head() #LM"
   ]
  },
  {
   "cell_type": "code",
   "execution_count": 157,
   "metadata": {
    "collapsed": true
   },
   "outputs": [],
   "source": [
    "# x_final.to_csv('output/LM_final.csv', index=None)\n",
    "x_final.to_csv('output/XGB_final.csv', index=None)"
   ]
  },
  {
   "cell_type": "code",
   "execution_count": 158,
   "metadata": {},
   "outputs": [
    {
     "data": {
      "text/plain": [
       "0"
      ]
     },
     "execution_count": 158,
     "metadata": {},
     "output_type": "execute_result"
    }
   ],
   "source": [
    "x_final.duplicated().sum()"
   ]
  },
  {
   "cell_type": "code",
   "execution_count": null,
   "metadata": {
    "collapsed": true
   },
   "outputs": [],
   "source": []
  }
 ],
 "metadata": {
  "kernelspec": {
   "display_name": "Python 3",
   "language": "python",
   "name": "python3"
  },
  "language_info": {
   "codemirror_mode": {
    "name": "ipython",
    "version": 3
   },
   "file_extension": ".py",
   "mimetype": "text/x-python",
   "name": "python",
   "nbconvert_exporter": "python",
   "pygments_lexer": "ipython3",
   "version": "3.6.3"
  }
 },
 "nbformat": 4,
 "nbformat_minor": 2
}
