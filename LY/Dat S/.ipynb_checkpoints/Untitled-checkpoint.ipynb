{
 "cells": [
  {
   "cell_type": "code",
   "execution_count": 2,
   "metadata": {
    "collapsed": true
   },
   "outputs": [],
   "source": [
    "import pandas as pd\n",
    "import numpy as np\n",
    "import os\n",
    "import matplotlib.pyplot as plt\n",
    "\n",
    "from sklearn.model_selection import train_test_split\n",
    "from sklearn.linear_model import LinearRegression\n",
    "from sklearn.metrics import mean_absolute_error\n",
    "from sklearn.ensemble import RandomForestRegressor\n",
    "from sklearn.model_selection import RandomizedSearchCV\n",
    "from sklearn.model_selection import cross_val_score\n",
    "import operator\n",
    "import geopy.distance\n",
    "from sklearn import preprocessing\n",
    "# import warnings\n",
    "# warnings.filterwarnings(\"ignore\")\n",
    "\n",
    "pd.options.display.max_columns = 200\n",
    "%matplotlib inline"
   ]
  },
  {
   "cell_type": "code",
   "execution_count": 3,
   "metadata": {},
   "outputs": [
    {
     "data": {
      "text/plain": [
       "(12905719, 13)"
      ]
     },
     "execution_count": 3,
     "metadata": {},
     "output_type": "execute_result"
    }
   ],
   "source": [
    "train_orig = pd.read_csv('clean_train6_categorical.csv.zip')\n",
    "train_orig.shape"
   ]
  },
  {
   "cell_type": "code",
   "execution_count": 4,
   "metadata": {},
   "outputs": [
    {
     "data": {
      "text/html": [
       "<div>\n",
       "<style>\n",
       "    .dataframe thead tr:only-child th {\n",
       "        text-align: right;\n",
       "    }\n",
       "\n",
       "    .dataframe thead th {\n",
       "        text-align: left;\n",
       "    }\n",
       "\n",
       "    .dataframe tbody tr th {\n",
       "        vertical-align: top;\n",
       "    }\n",
       "</style>\n",
       "<table border=\"1\" class=\"dataframe\">\n",
       "  <thead>\n",
       "    <tr style=\"text-align: right;\">\n",
       "      <th></th>\n",
       "      <th>row_id</th>\n",
       "      <th>start_lng</th>\n",
       "      <th>start_lat</th>\n",
       "      <th>end_lng</th>\n",
       "      <th>end_lat</th>\n",
       "      <th>duration</th>\n",
       "      <th>dist</th>\n",
       "      <th>manhattan_dist</th>\n",
       "      <th>region</th>\n",
       "      <th>admin1</th>\n",
       "      <th>admin2</th>\n",
       "      <th>weekday</th>\n",
       "      <th>hour</th>\n",
       "    </tr>\n",
       "  </thead>\n",
       "  <tbody>\n",
       "    <tr>\n",
       "      <th>0</th>\n",
       "      <td>0</td>\n",
       "      <td>-74.009087</td>\n",
       "      <td>40.713818</td>\n",
       "      <td>-74.004326</td>\n",
       "      <td>40.719986</td>\n",
       "      <td>112</td>\n",
       "      <td>794</td>\n",
       "      <td>1216</td>\n",
       "      <td>New York City</td>\n",
       "      <td>New York</td>\n",
       "      <td>Kings County</td>\n",
       "      <td>Saturday</td>\n",
       "      <td>23</td>\n",
       "    </tr>\n",
       "    <tr>\n",
       "      <th>1</th>\n",
       "      <td>1</td>\n",
       "      <td>-73.971176</td>\n",
       "      <td>40.762428</td>\n",
       "      <td>-74.004181</td>\n",
       "      <td>40.742653</td>\n",
       "      <td>1159</td>\n",
       "      <td>3548</td>\n",
       "      <td>5870</td>\n",
       "      <td>Manhattan</td>\n",
       "      <td>New York</td>\n",
       "      <td>New York County</td>\n",
       "      <td>Saturday</td>\n",
       "      <td>23</td>\n",
       "    </tr>\n",
       "    <tr>\n",
       "      <th>2</th>\n",
       "      <td>2</td>\n",
       "      <td>-73.994957</td>\n",
       "      <td>40.745079</td>\n",
       "      <td>-73.999939</td>\n",
       "      <td>40.734650</td>\n",
       "      <td>281</td>\n",
       "      <td>1232</td>\n",
       "      <td>1714</td>\n",
       "      <td>Weehawken</td>\n",
       "      <td>New Jersey</td>\n",
       "      <td>Hudson County</td>\n",
       "      <td>Thursday</td>\n",
       "      <td>22</td>\n",
       "    </tr>\n",
       "    <tr>\n",
       "      <th>3</th>\n",
       "      <td>3</td>\n",
       "      <td>-73.991127</td>\n",
       "      <td>40.750080</td>\n",
       "      <td>-73.988609</td>\n",
       "      <td>40.734890</td>\n",
       "      <td>636</td>\n",
       "      <td>1700</td>\n",
       "      <td>1970</td>\n",
       "      <td>Weehawken</td>\n",
       "      <td>New Jersey</td>\n",
       "      <td>Hudson County</td>\n",
       "      <td>Thursday</td>\n",
       "      <td>22</td>\n",
       "    </tr>\n",
       "    <tr>\n",
       "      <th>4</th>\n",
       "      <td>4</td>\n",
       "      <td>-73.945511</td>\n",
       "      <td>40.773724</td>\n",
       "      <td>-73.987434</td>\n",
       "      <td>40.755707</td>\n",
       "      <td>705</td>\n",
       "      <td>4066</td>\n",
       "      <td>6667</td>\n",
       "      <td>Manhattan</td>\n",
       "      <td>New York</td>\n",
       "      <td>New York County</td>\n",
       "      <td>Sunday</td>\n",
       "      <td>3</td>\n",
       "    </tr>\n",
       "  </tbody>\n",
       "</table>\n",
       "</div>"
      ],
      "text/plain": [
       "   row_id  start_lng  start_lat    end_lng    end_lat  duration  dist  \\\n",
       "0       0 -74.009087  40.713818 -74.004326  40.719986       112   794   \n",
       "1       1 -73.971176  40.762428 -74.004181  40.742653      1159  3548   \n",
       "2       2 -73.994957  40.745079 -73.999939  40.734650       281  1232   \n",
       "3       3 -73.991127  40.750080 -73.988609  40.734890       636  1700   \n",
       "4       4 -73.945511  40.773724 -73.987434  40.755707       705  4066   \n",
       "\n",
       "   manhattan_dist         region      admin1           admin2   weekday  hour  \n",
       "0            1216  New York City    New York     Kings County  Saturday    23  \n",
       "1            5870      Manhattan    New York  New York County  Saturday    23  \n",
       "2            1714      Weehawken  New Jersey    Hudson County  Thursday    22  \n",
       "3            1970      Weehawken  New Jersey    Hudson County  Thursday    22  \n",
       "4            6667      Manhattan    New York  New York County    Sunday     3  "
      ]
     },
     "execution_count": 4,
     "metadata": {},
     "output_type": "execute_result"
    }
   ],
   "source": [
    "train_orig.head()"
   ]
  },
  {
   "cell_type": "code",
   "execution_count": 5,
   "metadata": {},
   "outputs": [
    {
     "data": {
      "text/plain": [
       "row_id              int64\n",
       "start_lng         float64\n",
       "start_lat         float64\n",
       "end_lng           float64\n",
       "end_lat           float64\n",
       "duration            int64\n",
       "dist                int64\n",
       "manhattan_dist      int64\n",
       "region             object\n",
       "admin1             object\n",
       "admin2             object\n",
       "weekday            object\n",
       "hour                int64\n",
       "dtype: object"
      ]
     },
     "execution_count": 5,
     "metadata": {},
     "output_type": "execute_result"
    }
   ],
   "source": [
    "train_orig.dtypes"
   ]
  },
  {
   "cell_type": "code",
   "execution_count": 6,
   "metadata": {},
   "outputs": [
    {
     "name": "stdout",
     "output_type": "stream",
     "text": [
      "row_id\n",
      "start_lng\n",
      "start_lat\n",
      "end_lng\n",
      "end_lat\n",
      "duration\n",
      "dist\n",
      "manhattan_dist\n",
      "region\n",
      "admin1\n",
      "admin2\n",
      "weekday\n",
      "hour\n"
     ]
    }
   ],
   "source": [
    "for c in train_orig.columns:\n",
    "    print(c)\n",
    "    if train_orig[c].dtype == 'object':\n",
    "        lbl = preprocessing.LabelEncoder()\n",
    "        lbl.fit(list(train_orig[c].values)) \n",
    "        train_orig[c] = lbl.transform(list(train_orig[c].values))"
   ]
  },
  {
   "cell_type": "code",
   "execution_count": 7,
   "metadata": {},
   "outputs": [
    {
     "data": {
      "text/plain": [
       "((11615147, 11), (1290572, 11), (11615147,), (1290572,))"
      ]
     },
     "execution_count": 7,
     "metadata": {},
     "output_type": "execute_result"
    }
   ],
   "source": [
    "# Split data to train and test sets\n",
    "y_all = train_orig['duration']\n",
    "x_all = train_orig.drop(['row_id', 'duration'], axis=1) #, 'start_lng', 'start_lat', 'end_lng', 'end_lat'], 'region', 'admin1', 'admin2'\n",
    "\n",
    "x_train, x_test, y_train, y_test = train_test_split(x_all, y_all, test_size=0.1, random_state=2018)\n",
    "x_train.shape, x_test.shape, y_train.shape, y_test.shape"
   ]
  },
  {
   "cell_type": "code",
   "execution_count": 8,
   "metadata": {},
   "outputs": [
    {
     "name": "stderr",
     "output_type": "stream",
     "text": [
      "/Users/tamirlan/anaconda3/lib/python3.6/site-packages/scipy/linalg/basic.py:1226: RuntimeWarning: internal gelsd driver lwork query error, required iwork dimension not returned. This is likely the result of LAPACK bug 0038, fixed in LAPACK 3.2.2 (released July 21, 2010). Falling back to 'gelss' driver.\n",
      "  warnings.warn(mesg, RuntimeWarning)\n"
     ]
    }
   ],
   "source": [
    "lm = LinearRegression(n_jobs = 3)\n",
    "lm = lm.fit(x_train, y_train)"
   ]
  },
  {
   "cell_type": "code",
   "execution_count": 9,
   "metadata": {},
   "outputs": [
    {
     "name": "stdout",
     "output_type": "stream",
     "text": [
      "Train Mean Absolute Error: 284.3607358502357\n",
      "Test Mean Absolute Error: 284.50669966661695\n"
     ]
    }
   ],
   "source": [
    "pred_train = lm.predict(x_train)\n",
    "print('Train Mean Absolute Error:', mean_absolute_error(y_train, pred_train))\n",
    "\n",
    "pred_test = lm.predict(x_test)\n",
    "print('Test Mean Absolute Error:', mean_absolute_error(y_test, pred_test))"
   ]
  },
  {
   "cell_type": "code",
   "execution_count": null,
   "metadata": {
    "collapsed": true
   },
   "outputs": [],
   "source": []
  }
 ],
 "metadata": {
  "kernelspec": {
   "display_name": "Python 3",
   "language": "python",
   "name": "python3"
  },
  "language_info": {
   "codemirror_mode": {
    "name": "ipython",
    "version": 3
   },
   "file_extension": ".py",
   "mimetype": "text/x-python",
   "name": "python",
   "nbconvert_exporter": "python",
   "pygments_lexer": "ipython3",
   "version": "3.6.3"
  }
 },
 "nbformat": 4,
 "nbformat_minor": 2
}
